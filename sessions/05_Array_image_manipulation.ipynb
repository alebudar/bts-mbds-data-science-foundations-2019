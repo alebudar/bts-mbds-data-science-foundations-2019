{
 "cells": [
  {
   "cell_type": "markdown",
   "metadata": {
    "colab_type": "text",
    "id": "_a2hajcA99-K"
   },
   "source": [
    "![BTS](https://github.com/vfp1/bts-mbds-data-science-foundations-2019/blob/master/sessions/img/Logo-BTS.jpg?raw=1)\n",
    "\n",
    "# Session 5: Introduction to GIT & Scikit Image\n",
    "\n",
    "### Victor F. Pajuelo Madrigal <victor.pajuelo@bts.tech> - Data Science Foundations (2019-10-15)\n",
    "\n",
    "Open this notebook in Google Colaboratory: [![Open in Colab](https://colab.research.google.com/assets/colab-badge.svg)](https://colab.research.google.com/github/vfp1/bts-mbds-data-science-foundations-2019/blob/master/sessions/05_Array_image_manipulation.ipynb)\n",
    "\n",
    "**Resources:**\n",
    "\n",
    "* [SciPy](https://scipy.org)\n",
    "* [Scipy Lectures](https://scipy-lectures.org)\n",
    "* [NumPy](https://numpy.org)"
   ]
  },
  {
   "cell_type": "markdown",
   "metadata": {
    "colab_type": "text",
    "id": "rxFVsb07k-1M"
   },
   "source": [
    "# SciPy ecosystem\n",
    "[SciPy.org](https://scipy.org)\n"
   ]
  },
  {
   "cell_type": "markdown",
   "metadata": {
    "colab_type": "text",
    "id": "YTceqHWTqUT0"
   },
   "source": [
    "## Finding help within the SciPy ecosystem"
   ]
  },
  {
   "cell_type": "markdown",
   "metadata": {
    "colab_type": "text",
    "id": "rqqkI5xAqlhp"
   },
   "source": [
    "### How to use a function?"
   ]
  },
  {
   "cell_type": "code",
   "execution_count": 1,
   "metadata": {
    "colab": {},
    "colab_type": "code",
    "id": "JpPzkH25qfdY"
   },
   "outputs": [],
   "source": [
    "import numpy as np\n",
    "np.linspace?"
   ]
  },
  {
   "cell_type": "markdown",
   "metadata": {
    "colab_type": "text",
    "id": "hDV-_nrtqtO2"
   },
   "source": [
    "### Viewing the source"
   ]
  },
  {
   "cell_type": "code",
   "execution_count": 2,
   "metadata": {
    "colab": {},
    "colab_type": "code",
    "id": "q5wUdSZRq1Gy"
   },
   "outputs": [],
   "source": [
    "import numpy as np\n",
    "np.linspace??"
   ]
  },
  {
   "cell_type": "markdown",
   "metadata": {
    "colab_type": "text",
    "id": "StjjR2bDq4OA"
   },
   "source": [
    "### ? will work both in functions and variables"
   ]
  },
  {
   "cell_type": "code",
   "execution_count": 3,
   "metadata": {
    "colab": {},
    "colab_type": "code",
    "id": "9p-L5aMqrCAi"
   },
   "outputs": [],
   "source": [
    "a = \"SciPy is awesome ;)\"\n",
    "a?"
   ]
  },
  {
   "cell_type": "markdown",
   "metadata": {
    "colab_type": "text",
    "id": "21DziKTsxMHl"
   },
   "source": [
    "# NumPy"
   ]
  },
  {
   "cell_type": "code",
   "execution_count": 4,
   "metadata": {
    "colab": {},
    "colab_type": "code",
    "id": "LJnBBLmG132q"
   },
   "outputs": [],
   "source": [
    "# Within IPython notebook, add multiple print capabilities\n",
    "from IPython.core.interactiveshell import InteractiveShell\n",
    "InteractiveShell.ast_node_interactivity = \"all\""
   ]
  },
  {
   "cell_type": "markdown",
   "metadata": {
    "colab_type": "text",
    "id": "omaIgYI0xdrt"
   },
   "source": [
    "## NumPy arrays\n",
    "\n",
    "An array can contain:\n",
    "* Values of an experiment/simulation at discrete time steps\n",
    "* A signal recorded by a measurement device, e.g. sound wave\n",
    "* The pixels of an image, grey-level or colour\n",
    "* 3-D data measured at different X-Y-Z positions, e.g. MRI scan\n",
    "* …"
   ]
  },
  {
   "cell_type": "code",
   "execution_count": 5,
   "metadata": {
    "colab": {},
    "colab_type": "code",
    "id": "Rxfd_QZkxYqh"
   },
   "outputs": [],
   "source": [
    "import numpy as np\n",
    "a = np.array([0, 1, 2, 3])"
   ]
  },
  {
   "cell_type": "markdown",
   "metadata": {
    "colab_type": "text",
    "id": "mjM8bWObyyKJ"
   },
   "source": [
    "### NumPy is memory efficient container that provides fast numerical operations"
   ]
  },
  {
   "cell_type": "code",
   "execution_count": 6,
   "metadata": {
    "colab": {
     "base_uri": "https://localhost:8080/",
     "height": 91
    },
    "colab_type": "code",
    "id": "-isSwwYPy-LY",
    "outputId": "847a5386-1686-486a-b4e9-4ed729e62d84"
   },
   "outputs": [
    {
     "name": "stdout",
     "output_type": "stream",
     "text": [
      "572 µs ± 40 µs per loop (mean ± std. dev. of 7 runs, 1000 loops each)\n",
      "2.31 µs ± 109 ns per loop (mean ± std. dev. of 7 runs, 100000 loops each)\n"
     ]
    }
   ],
   "source": [
    "L = range(1000)\n",
    "%timeit [i**2 for i in L]\n",
    "\n",
    "a = np.arange(1000)\n",
    "%timeit a**2"
   ]
  },
  {
   "cell_type": "markdown",
   "metadata": {
    "colab_type": "text",
    "id": "6z2ic525zjbM"
   },
   "source": [
    "### Reference documentation\n",
    "On the web: http://docs.scipy.org/"
   ]
  },
  {
   "cell_type": "code",
   "execution_count": 7,
   "metadata": {
    "colab": {},
    "colab_type": "code",
    "id": "nPEYL-zEzrOh"
   },
   "outputs": [],
   "source": [
    "# Interactive help\n",
    "np.array?"
   ]
  },
  {
   "cell_type": "code",
   "execution_count": 8,
   "metadata": {
    "colab": {},
    "colab_type": "code",
    "id": "LGQzsRkTz6Jt"
   },
   "outputs": [
    {
     "name": "stdout",
     "output_type": "stream",
     "text": [
      "Search results for 'create array'\n",
      "---------------------------------\n",
      "numpy.array\n",
      "    Create an array.\n",
      "numpy.memmap\n",
      "    Create a memory-map to an array stored in a *binary* file on disk.\n",
      "numpy.diagflat\n",
      "    Create a two-dimensional array with the flattened input as a diagonal.\n",
      "numpy.fromiter\n",
      "    Create a new 1-dimensional array from an iterable object.\n",
      "numpy.partition\n",
      "    Return a partitioned copy of an array.\n",
      "numpy.ctypeslib.as_array\n",
      "    Create a numpy array from a ctypes array or POINTER.\n",
      "numpy.ma.diagflat\n",
      "    Create a two-dimensional array with the flattened input as a diagonal.\n",
      "numpy.ma.make_mask\n",
      "    Create a boolean mask from an array.\n",
      "numpy.ctypeslib.as_ctypes\n",
      "    Create and return a ctypes object from a numpy array.  Actually\n",
      "numpy.ma.mrecords.fromarrays\n",
      "    Creates a mrecarray from a (flat) list of masked arrays.\n",
      "numpy.ma.mvoid.__new__\n",
      "    Create a new masked array from scratch.\n",
      "numpy.lib.format.open_memmap\n",
      "    Open a .npy file as a memory-mapped array.\n",
      "numpy.ma.MaskedArray.__new__\n",
      "    Create a new masked array from scratch.\n",
      "numpy.lib.arrayterator.Arrayterator\n",
      "    Buffered iterator for big arrays.\n",
      "numpy.ma.mrecords.fromtextfile\n",
      "    Creates a mrecarray from data stored in the file `filename`.\n",
      "numpy.asarray\n",
      "    Convert the input to an array.\n",
      "numpy.ndarray\n",
      "    ndarray(shape, dtype=float, buffer=None, offset=0,\n",
      "numpy.recarray\n",
      "    Construct an ndarray that allows field access using attributes.\n",
      "numpy.chararray\n",
      "    chararray(shape, itemsize=1, unicode=False, buffer=None, offset=0,\n",
      "numpy.exp\n",
      "    Calculate the exponential of all elements in the input array.\n",
      "numpy.pad\n",
      "    Pad an array.\n",
      "numpy.asanyarray\n",
      "    Convert the input to an ndarray, but pass ndarray subclasses through.\n",
      "numpy.cbrt\n",
      "    Return the cube-root of an array, element-wise.\n",
      "numpy.copy\n",
      "    Return an array copy of the given object.\n",
      "numpy.diag\n",
      "    Extract a diagonal or construct a diagonal array.\n",
      "numpy.exp2\n",
      "    Calculate `2**p` for all `p` in the input array.\n",
      "numpy.fmax\n",
      "    Element-wise maximum of array elements.\n",
      "numpy.fmin\n",
      "    Element-wise minimum of array elements.\n",
      "numpy.load\n",
      "    Load arrays or pickled objects from ``.npy``, ``.npz`` or pickled files.\n",
      "numpy.modf\n",
      "    Return the fractional and integral parts of an array, element-wise.\n",
      "numpy.rint\n",
      "    Round elements of the array to the nearest integer.\n",
      "numpy.sort\n",
      "    Return a sorted copy of an array.\n",
      "numpy.sqrt\n",
      "    Return the non-negative square-root of an array, element-wise.\n",
      "numpy.array_equiv\n",
      "    Returns True if input arrays are shape consistent and all elements equal.\n",
      "numpy.dtype\n",
      "    Create a data type object.\n",
      "numpy.expm1\n",
      "    Calculate ``exp(x) - 1`` for all elements in the array.\n",
      "numpy.isnan\n",
      "    Test element-wise for NaN and return result as a boolean array.\n",
      "numpy.isnat\n",
      "    Test element-wise for NaT (not a time) and return result as a boolean array.\n",
      "numpy.log10\n",
      "    Return the base 10 logarithm of the input array, element-wise.\n",
      "numpy.log1p\n",
      "    Return the natural logarithm of one plus the input array, element-wise.\n",
      "numpy.power\n",
      "    First array elements raised to powers from second array, element-wise.\n",
      "numpy.ufunc\n",
      "    Functions that operate element by element on whole arrays.\n",
      "numpy.choose\n",
      "    Construct an array from an index array and a set of arrays to choose from.\n",
      "numpy.nditer\n",
      "    Efficient multi-dimensional iterator object to iterate over arrays.\n",
      "numpy.maximum\n",
      "    Element-wise maximum of array elements.\n",
      "numpy.minimum\n",
      "    Element-wise minimum of array elements.\n",
      "numpy.swapaxes\n",
      "    Interchange two axes of an array.\n",
      "numpy.full_like\n",
      "    Return a full array with the same shape and type as a given array.\n",
      "numpy.ones_like\n",
      "    Return an array of ones with the same shape and type as a given array.\n",
      "numpy.bitwise_or\n",
      "    Compute the bit-wise OR of two arrays element-wise.\n",
      "numpy.empty_like\n",
      "    Return a new array with the same shape and type as a given array.\n",
      "numpy.zeros_like\n",
      "    Return an array of zeros with the same shape and type as a given array.\n",
      "numpy.asarray_chkfinite\n",
      "    Convert the input to an array, checking for NaNs or Infs.\n",
      "numpy.bitwise_and\n",
      "    Compute the bit-wise AND of two arrays element-wise.\n",
      "numpy.bitwise_xor\n",
      "    Compute the bit-wise XOR of two arrays element-wise.\n",
      "numpy.float_power\n",
      "    First array elements raised to powers from second array, element-wise.\n",
      "numpy.ma.exp\n",
      "    Calculate the exponential of all elements in the input array.\n",
      "numpy.diag_indices\n",
      "    Return the indices to access the main diagonal of an array.\n",
      "numpy.nested_iters\n",
      "    Create nditers for use in nested loops\n",
      "numpy.ma.mrecords.MaskedRecords.__new__\n",
      "    Create a new masked array from scratch.\n",
      "numpy.ma.sqrt\n",
      "    Return the non-negative square-root of an array, element-wise.\n",
      "numpy.ma.log10\n",
      "    Return the base 10 logarithm of the input array, element-wise.\n",
      "numpy.chararray.tolist\n",
      "    a.tolist()\n",
      "numpy.put_along_axis\n",
      "    Put values into the destination array by matching 1d index and data slices.\n",
      "numpy.ma.choose\n",
      "    Use an index array to construct a new array from a set of choices.\n",
      "numpy.ma.maximum\n",
      "    Element-wise maximum of array elements.\n",
      "numpy.ma.minimum\n",
      "    Element-wise minimum of array elements.\n",
      "numpy.savez_compressed\n",
      "    Save several arrays into a single file in compressed ``.npz`` format.\n",
      "numpy.matlib.rand\n",
      "    Return a matrix of random values with given shape.\n",
      "numpy.datetime_as_string\n",
      "    Convert an array of datetimes into an array of strings.\n",
      "numpy.ma.bitwise_or\n",
      "    Compute the bit-wise OR of two arrays element-wise.\n",
      "numpy.ma.bitwise_and\n",
      "    Compute the bit-wise AND of two arrays element-wise.\n",
      "numpy.ma.bitwise_xor\n",
      "    Compute the bit-wise XOR of two arrays element-wise.\n",
      "numpy.ma.make_mask_none\n",
      "    Return a boolean mask of the given shape, filled with False.\n",
      "numpy.ma.tests.test_subclassing.MSubArray.__new__\n",
      "    Create a new masked array from scratch.\n",
      "numpy.core._multiarray_umath.clip\n",
      "    Clip (limit) the values in an array.\n",
      "numpy.ma.tests.test_subclassing.SubMaskedArray.__new__\n",
      "    Create a new masked array from scratch.\n",
      "numpy.ma.mrecords.fromrecords\n",
      "    Creates a MaskedRecords from a list of records.\n",
      "numpy.core._multiarray_umath.empty_like\n",
      "    Return a new array with the same shape and type as a given array.\n",
      "numpy.core._dtype._construction_repr\n",
      "    Creates a string repr of the dtype, excluding the 'dtype()' part\n",
      "numpy.abs\n",
      "    Calculate the absolute value element-wise.\n",
      "numpy.add\n",
      "    Add arguments element-wise.\n",
      "numpy.cos\n",
      "    Cosine element-wise.\n",
      "numpy.log\n",
      "    Natural logarithm, element-wise.\n",
      "numpy.mod\n",
      "    Return element-wise remainder of division.\n",
      "numpy.lib.recfunctions.require_fields\n",
      "    Casts a structured array to a new dtype using assignment by field-name.\n",
      "numpy.sin\n",
      "    Trigonometric sine, element-wise.\n",
      "numpy.tan\n",
      "    Compute tangent element-wise.\n",
      "numpy.ceil\n",
      "    Return the ceiling of the input, element-wise.\n",
      "numpy.conj\n",
      "    Return the complex conjugate, element-wise.\n",
      "numpy.cosh\n",
      "    Hyperbolic cosine, element-wise.\n",
      "numpy.fabs\n",
      "    Compute the absolute values element-wise.\n",
      "numpy.fmod\n",
      "    Return the element-wise remainder of division.\n",
      "numpy.less\n",
      "    Return the truth value of (x1 < x2) element-wise.\n",
      "numpy.log2\n",
      "    Base-2 logarithm of `x`.\n",
      "numpy.sign\n",
      "    Returns an element-wise indication of the sign of a number.\n",
      "numpy.sinh\n",
      "    Hyperbolic sine, element-wise.\n",
      "numpy.tanh\n",
      "    Compute hyperbolic tangent element-wise.\n",
      "numpy.equal\n",
      "    Return (x1 == x2) element-wise.\n",
      "numpy.core._multiarray_umath.datetime_as_string\n",
      "    Convert an array of datetimes into an array of strings.\n",
      "numpy.floor\n",
      "    Return the floor of the input, element-wise.\n",
      "numpy.frexp\n",
      "    Decompose the elements of x into mantissa and twos exponent.\n",
      "numpy.hypot\n",
      "    Given the \"legs\" of a right triangle, return its hypotenuse.\n",
      "numpy.isinf\n",
      "    Test element-wise for positive or negative infinity.\n",
      "numpy.ldexp\n",
      "    Returns x1 * 2**x2, element-wise.\n",
      "numpy.trunc\n",
      "    Return the truncated value of the input, element-wise.\n",
      "numpy.arccos\n",
      "    Trigonometric inverse cosine, element-wise.\n",
      "numpy.arcsin\n",
      "    Inverse sine, element-wise.\n",
      "numpy.arctan\n",
      "    Trigonometric inverse tangent, element-wise.\n",
      "numpy.around\n",
      "    Evenly round to the given number of decimals.\n",
      "numpy.divide\n",
      "    Returns a true division of the inputs, element-wise.\n",
      "numpy.divmod\n",
      "    Return element-wise quotient and remainder simultaneously.\n",
      "numpy.source\n",
      "    Print or write to a file the source code for a NumPy object.\n",
      "numpy.square\n",
      "    Return the element-wise square of the input.\n",
      "numpy.arccosh\n",
      "    Inverse hyperbolic cosine, element-wise.\n",
      "numpy.arcsinh\n",
      "    Inverse hyperbolic sine element-wise.\n",
      "numpy.arctan2\n",
      "    Element-wise arc tangent of ``x1/x2`` choosing the quadrant correctly.\n",
      "numpy.arctanh\n",
      "    Inverse hyperbolic tangent element-wise.\n",
      "numpy.deg2rad\n",
      "    Convert angles from degrees to radians.\n",
      "numpy.degrees\n",
      "    Convert angles from radians to degrees.\n",
      "numpy.greater\n",
      "    Return the truth value of (x1 > x2) element-wise.\n",
      "numpy.rad2deg\n",
      "    Convert angles from radians to degrees.\n",
      "numpy.radians\n",
      "    Convert angles from degrees to radians.\n",
      "numpy.signbit\n",
      "    Returns element-wise True where signbit is set (less than zero).\n",
      "numpy.spacing\n",
      "    Return the distance between x and the nearest adjacent number.\n",
      "numpy.copysign\n",
      "    Change the sign of x1 to that of x2, element-wise.\n",
      "numpy.diagonal\n",
      "    Return specified diagonals.\n",
      "numpy.isfinite\n",
      "    Test element-wise for finiteness (not infinity or not Not a Number).\n",
      "numpy.multiply\n",
      "    Multiply arguments element-wise.\n",
      "numpy.negative\n",
      "    Numerical negative, element-wise.\n",
      "numpy.subtract\n",
      "    Subtract arguments, element-wise.\n",
      "numpy.heaviside\n",
      "    Compute the Heaviside step function.\n",
      "numpy.logaddexp\n",
      "    Logarithm of the sum of exponentiations of the inputs.\n",
      "numpy.nextafter\n",
      "    Return the next floating-point value after x1 towards x2, element-wise.\n",
      "numpy.not_equal\n",
      "    Return (x1 != x2) element-wise.\n",
      "numpy.left_shift\n",
      "    Shift the bits of an integer to the left.\n",
      "numpy.less_equal\n",
      "    Return the truth value of (x1 =< x2) element-wise.\n",
      "numpy.logaddexp2\n",
      "    Logarithm of the sum of exponentiations of the inputs in base-2.\n",
      "numpy.logical_or\n",
      "    Compute the truth value of x1 OR x2 element-wise.\n",
      "numpy.nan_to_num\n",
      "    Replace NaN with zero and infinity with large finite numbers (default\n",
      "numpy.reciprocal\n",
      "    Return the reciprocal of the argument, element-wise.\n",
      "numpy.bitwise_not\n",
      "    Compute bit-wise inversion, or bit-wise NOT, element-wise.\n",
      "numpy.einsum_path\n",
      "    Evaluates the lowest cost contraction order for an einsum expression by\n",
      "numpy.histogram2d\n",
      "    Compute the bi-dimensional histogram of two data samples.\n",
      "numpy.logical_and\n",
      "    Compute the truth value of x1 AND x2 element-wise.\n",
      "numpy.logical_not\n",
      "    Compute the truth value of NOT x element-wise.\n",
      "numpy.logical_xor\n",
      "    Compute the truth value of x1 XOR x2, element-wise.\n",
      "numpy.right_shift\n",
      "    Shift the bits of an integer to the right.\n",
      "numpy.ma.abs\n",
      "    Calculate the absolute value element-wise.\n",
      "numpy.ma.add\n",
      "    Add arguments element-wise.\n",
      "numpy.ma.cos\n",
      "    Cosine element-wise.\n",
      "numpy.ma.log\n",
      "    Natural logarithm, element-wise.\n",
      "numpy.ma.mod\n",
      "    Return element-wise remainder of division.\n",
      "numpy.ma.sin\n",
      "    Trigonometric sine, element-wise.\n",
      "numpy.ma.tan\n",
      "    Compute tangent element-wise.\n",
      "numpy.floor_divide\n",
      "    Return the largest integer smaller or equal to the division of the inputs.\n",
      "numpy.ma.ceil\n",
      "    Return the ceiling of the input, element-wise.\n",
      "numpy.ma.cosh\n",
      "    Hyperbolic cosine, element-wise.\n",
      "numpy.fft.ifft\n",
      "    Compute the one-dimensional inverse discrete Fourier Transform.\n",
      "numpy.ma.fabs\n",
      "    Compute the absolute values element-wise.\n",
      "numpy.ma.fmod\n",
      "    Return the element-wise remainder of division.\n",
      "numpy.ma.less\n",
      "    Return the truth value of (x1 < x2) element-wise.\n",
      "numpy.ma.log2\n",
      "    Base-2 logarithm of `x`.\n",
      "numpy.ma.sinh\n",
      "    Hyperbolic sine, element-wise.\n",
      "numpy.ma.tanh\n",
      "    Compute hyperbolic tangent element-wise.\n",
      "numpy.greater_equal\n",
      "    Return the truth value of (x1 >= x2) element-wise.\n",
      "numpy.fft.ifftn\n",
      "    Compute the N-dimensional inverse discrete Fourier Transform.\n",
      "numpy.ma.equal\n",
      "    Return (x1 == x2) element-wise.\n",
      "numpy.ma.floor\n",
      "    Return the floor of the input, element-wise.\n",
      "numpy.ma.hypot\n",
      "    Given the \"legs\" of a right triangle, return its hypotenuse.\n",
      "numpy.busdaycalendar\n",
      "    A business day calendar object that efficiently stores information\n",
      "numpy.ma.tests.test_subclassing.SubArray\n",
      "    ndarray(shape, dtype=float, buffer=None, offset=0,\n",
      "numpy.ma.arccos\n",
      "    Trigonometric inverse cosine, element-wise.\n",
      "numpy.ma.arcsin\n",
      "    Inverse sine, element-wise.\n",
      "numpy.ma.arctan\n",
      "    Trigonometric inverse tangent, element-wise.\n",
      "numpy.ma.divide\n",
      "    Returns a true division of the inputs, element-wise.\n",
      "numpy.lib.recfunctions.unstructured_to_structured\n",
      "    Converts and n-D unstructured array into an (n-1)-D structured array.\n",
      "numpy.ma.arccosh\n",
      "    Inverse hyperbolic cosine, element-wise.\n",
      "numpy.ma.arcsinh\n",
      "    Inverse hyperbolic sine element-wise.\n",
      "numpy.ma.arctan2\n",
      "    Element-wise arc tangent of ``x1/x2`` choosing the quadrant correctly.\n",
      "numpy.ma.arctanh\n",
      "    Inverse hyperbolic tangent element-wise.\n",
      "numpy.ma.greater\n",
      "    Return the truth value of (x1 > x2) element-wise.\n",
      "numpy.ma.multiply\n",
      "    Multiply arguments element-wise.\n",
      "numpy.ma.negative\n",
      "    Numerical negative, element-wise.\n",
      "numpy.ma.subtract\n",
      "    Subtract arguments, element-wise.\n",
      "numpy.ma.conjugate\n",
      "    Return the complex conjugate, element-wise.\n",
      "numpy.ma.not_equal\n",
      "    Return (x1 != x2) element-wise.\n",
      "numpy.ma.remainder\n",
      "    Return element-wise remainder of division.\n",
      "numpy.ma.empty_like\n",
      "    empty_like(prototype, dtype=None, order='K', subok=True, shape=None)\n",
      "numpy.ma.less_equal\n",
      "    Return the truth value of (x1 =< x2) element-wise.\n",
      "numpy.ma.logical_or\n",
      "    Compute the truth value of x1 OR x2 element-wise.\n",
      "numpy.ma.logical_and\n",
      "    Compute the truth value of x1 AND x2 element-wise.\n",
      "numpy.ma.logical_not\n",
      "    Compute the truth value of NOT x element-wise.\n",
      "numpy.ma.logical_xor\n",
      "    Compute the truth value of x1 XOR x2, element-wise.\n",
      "numpy.ma.true_divide\n",
      "    Returns a true division of the inputs, element-wise.\n",
      "numpy.ma.floor_divide\n",
      "    Return the largest integer smaller or equal to the division of the inputs.\n",
      "numpy.ma.greater_equal\n",
      "    Return the truth value of (x1 >= x2) element-wise.\n",
      "numpy.lib.tests.test_stride_tricks.SimpleSubClass\n",
      "    ndarray(shape, dtype=float, buffer=None, offset=0,\n",
      "numpy.core.tests.test_function_base.PhysicalQuantity2\n",
      "    ndarray(shape, dtype=float, buffer=None, offset=0,\n",
      "numpy.ma.tests.test_subclassing.ComplicatedSubArray\n",
      "    ndarray(shape, dtype=float, buffer=None, offset=0,\n",
      "numpy.lib.tests.test_stride_tricks.VerySimpleSubClass\n",
      "    ndarray(shape, dtype=float, buffer=None, offset=0,\n",
      "numpy.testing._gen_alignment_data\n",
      "    generator producing data with different alignment and offsets\n",
      "numpy.random.RandomState.rand\n",
      "    Random values in a given shape."
     ]
    }
   ],
   "source": [
    "# Looking for some stuff\n",
    "np.lookfor('create array') "
   ]
  },
  {
   "cell_type": "code",
   "execution_count": 9,
   "metadata": {
    "colab": {},
    "colab_type": "code",
    "id": "KoaEdrtu0IZL"
   },
   "outputs": [],
   "source": [
    "# Looking for something when some parts of the word are known\n",
    "np.con*?"
   ]
  },
  {
   "cell_type": "markdown",
   "metadata": {
    "colab_type": "text",
    "id": "7df4nf3N01j4"
   },
   "source": [
    "### Manual creation of arrays"
   ]
  },
  {
   "cell_type": "markdown",
   "metadata": {
    "colab_type": "text",
    "id": "g38RFzmI1Pq0"
   },
   "source": [
    "#### 1D"
   ]
  },
  {
   "cell_type": "code",
   "execution_count": 10,
   "metadata": {
    "colab": {
     "base_uri": "https://localhost:8080/",
     "height": 143
    },
    "colab_type": "code",
    "id": "UAKQlq2t1AUB",
    "outputId": "312c5b9d-1ed4-45bd-98c3-8e384f19c53d"
   },
   "outputs": [
    {
     "name": "stdout",
     "output_type": "stream",
     "text": [
      "Array  [0 1 2 3]\n",
      "\n",
      "Number of dimension  1\n",
      "\n",
      "Shape of the array  (4,)\n",
      "\n",
      "Lenght of array  4\n"
     ]
    }
   ],
   "source": [
    "# Create 1D array\n",
    "a = np.array([0, 1, 2, 3])\n",
    "print(\"Array \", a)\n",
    "\n",
    "# Print dimensions of array\n",
    "print(\"\\nNumber of dimension \", a.ndim)\n",
    "\n",
    "# Print shape of array\n",
    "print(\"\\nShape of the array \", a.shape)\n",
    "\n",
    "# Print the lenght of the array\n",
    "print(\"\\nLenght of array \", len(a))\n"
   ]
  },
  {
   "cell_type": "markdown",
   "metadata": {
    "colab_type": "text",
    "id": "58MxBexc2igs"
   },
   "source": [
    "#### 2D, 3D..."
   ]
  },
  {
   "cell_type": "code",
   "execution_count": 11,
   "metadata": {
    "colab": {
     "base_uri": "https://localhost:8080/",
     "height": 251
    },
    "colab_type": "code",
    "id": "srqagUuu2lu1",
    "outputId": "6dd3dd1a-ab10-46c5-d9f5-c568df351396"
   },
   "outputs": [
    {
     "name": "stdout",
     "output_type": "stream",
     "text": [
      "2x3array \n",
      " [[0 1 2]\n",
      " [3 4 5]]\n",
      "\n",
      "2x3 array dimensions  2\n",
      "\n",
      "2x3 array shape  (2, 3)\n",
      "\n",
      "Lenght of 2x3 array  2\n",
      "\n",
      "Lenght (first dimension) of 2x3 array  3\n",
      "\n",
      "Lenght (second dimension) of 2x3 array  3\n"
     ]
    }
   ],
   "source": [
    "# Create 2x3 array\n",
    "b = np.array([[0, 1, 2], [3, 4, 5]]) \n",
    "print(\"2x3array \\n\", b)\n",
    "\n",
    "# Print array dimensions\n",
    "print(\"\\n2x3 array dimensions \", b.ndim)\n",
    "\n",
    "#Print array shape\n",
    "print(\"\\n2x3 array shape \", b.shape)\n",
    "\n",
    "# Print length of 2x3 array (the first dimension)\n",
    "print(\"\\nLenght of 2x3 array \", len(b))\n",
    "print(\"\\nLenght (first dimension) of 2x3 array \", len(b[0]))\n",
    "print(\"\\nLenght (second dimension) of 2x3 array \", len(b[1]))"
   ]
  },
  {
   "cell_type": "code",
   "execution_count": 12,
   "metadata": {
    "colab": {
     "base_uri": "https://localhost:8080/",
     "height": 629
    },
    "colab_type": "code",
    "id": "vF1xb1FW2wWS",
    "outputId": "87befd11-52de-41a5-ef85-74416dd6db9c"
   },
   "outputs": [
    {
     "name": "stdout",
     "output_type": "stream",
     "text": [
      "3x2x3 array \n",
      " [[[ 0  1  2]\n",
      "  [ 3  4  5]]\n",
      "\n",
      " [[ 6  7  8]\n",
      "  [ 9 10 11]]\n",
      "\n",
      " [[12 13 14]\n",
      "  [15 16 17]]]\n",
      "\n",
      "3x2x3 array dimensions  3\n",
      "\n",
      "3x2x3 array shape  (3, 2, 3)\n",
      "\n",
      "First dimension of 3x2x3 array  2\n",
      "\n",
      "Second dimension of 3x2x3 array  2\n",
      "\n",
      "Third dimension of 3x2x3 array  2\n",
      "\n",
      "First dimension \n",
      " [[0 1 2]\n",
      " [3 4 5]]\n",
      "\n",
      "First dimension \n",
      " [[ 6  7  8]\n",
      " [ 9 10 11]]\n",
      "\n",
      "First dimension \n",
      " [[12 13 14]\n",
      " [15 16 17]]\n"
     ]
    }
   ],
   "source": [
    "# Create 3x2x3 array\n",
    "b = np.array([[[0, 1, 2], [3, 4, 5]], \n",
    "              [[6, 7, 8], [9, 10, 11]], \n",
    "              [[12, 13, 14], [15, 16, 17]]]) \n",
    "print(\"3x2x3 array \\n\", b)\n",
    "\n",
    "# Print array dimensions\n",
    "print(\"\\n3x2x3 array dimensions \", b.ndim)\n",
    "\n",
    "#Print array shape\n",
    "print(\"\\n3x2x3 array shape \", b.shape)\n",
    "\n",
    "# Print length of 3x2x3 array (the first dimension)\n",
    "print(\"\\nFirst dimension of 3x2x3 array \", len(b[0]))\n",
    "print(\"\\nSecond dimension of 3x2x3 array \", len(b[1]))\n",
    "print(\"\\nThird dimension of 3x2x3 array \", len(b[2]))\n",
    "\n",
    "print(\"\\nFirst dimension \\n\", b[0])\n",
    "print(\"\\nFirst dimension \\n\", b[1])\n",
    "print(\"\\nFirst dimension \\n\", b[2])"
   ]
  },
  {
   "cell_type": "markdown",
   "metadata": {
    "colab_type": "text",
    "id": "x0Svpviz-voT"
   },
   "source": [
    "### Creating arrays"
   ]
  },
  {
   "cell_type": "markdown",
   "metadata": {
    "colab_type": "text",
    "id": "dcb4RLIw-zQc"
   },
   "source": [
    "#### np.arange: enter data evenly spaced\n",
    "Return evenly spaced values within a given interval.\n",
    "\n",
    "Values are generated within the half-open interval ``[start, stop)``\n",
    "(in other words, the interval including `start` but excluding `stop`).\n",
    "For integer arguments the function is equivalent to the Python built-in\n",
    "`range` function, but returns an ndarray rather than a list.\n",
    "\n",
    "When using a non-integer step, such as 0.1, the results will often not\n",
    "be consistent.  It is better to use `numpy.linspace` for these cases."
   ]
  },
  {
   "cell_type": "code",
   "execution_count": 13,
   "metadata": {
    "colab": {
     "base_uri": "https://localhost:8080/",
     "height": 53
    },
    "colab_type": "code",
    "id": "7jD1yQVz_HKf",
    "outputId": "04ab9450-3d65-47cf-9c2c-c8ee877633c2"
   },
   "outputs": [
    {
     "data": {
      "text/plain": [
       "array([0, 1, 2, 3, 4, 5, 6, 7, 8, 9])"
      ]
     },
     "execution_count": 13,
     "metadata": {},
     "output_type": "execute_result"
    },
    {
     "name": "stdout",
     "output_type": "stream",
     "text": [
      "\n"
     ]
    },
    {
     "data": {
      "text/plain": [
       "array([0, 2, 4, 6, 8])"
      ]
     },
     "execution_count": 13,
     "metadata": {},
     "output_type": "execute_result"
    }
   ],
   "source": [
    "a = np.arange(10) # 0 .. n-1 \n",
    "a\n",
    "\n",
    "print(\"\")\n",
    "\n",
    "b = np.arange(0, 10, 2) # start, end (exclusive), step\n",
    "b"
   ]
  },
  {
   "cell_type": "markdown",
   "metadata": {
    "colab_type": "text",
    "id": "k8jX8tND_hE4"
   },
   "source": [
    "#### np.linspace: enter data by points\n",
    "Return evenly spaced numbers over a specified interval.\n",
    "\n",
    "Returns num evenly spaced samples, calculated over the interval `[start, stop]`.\n",
    "\n",
    "The endpoint of the interval can optionally be excluded."
   ]
  },
  {
   "cell_type": "code",
   "execution_count": 14,
   "metadata": {
    "colab": {
     "base_uri": "https://localhost:8080/",
     "height": 71
    },
    "colab_type": "code",
    "id": "K0JaDGQ__tZ3",
    "outputId": "e16fba21-a13c-488e-e576-d7d82bd3fa5c"
   },
   "outputs": [
    {
     "data": {
      "text/plain": [
       "array([0. , 0.2, 0.4, 0.6, 0.8, 1. ])"
      ]
     },
     "execution_count": 14,
     "metadata": {},
     "output_type": "execute_result"
    },
    {
     "name": "stdout",
     "output_type": "stream",
     "text": [
      "\n"
     ]
    },
    {
     "data": {
      "text/plain": [
       "array([0. , 0.2, 0.4, 0.6, 0.8])"
      ]
     },
     "execution_count": 14,
     "metadata": {},
     "output_type": "execute_result"
    },
    {
     "name": "stdout",
     "output_type": "stream",
     "text": [
      "\n"
     ]
    },
    {
     "data": {
      "text/plain": [
       "array([0.  , 0.25, 0.5 , 0.75, 1.  ])"
      ]
     },
     "execution_count": 14,
     "metadata": {},
     "output_type": "execute_result"
    }
   ],
   "source": [
    "c = np.linspace(0, 1, 6)   # start, end, num-points\n",
    "c\n",
    "\n",
    "print(\"\")\n",
    "\n",
    "d = np.linspace(0, 1, 5, endpoint=False)\n",
    "d\n",
    "\n",
    "print(\"\")\n",
    "\n",
    "e = np.linspace(0, 1, 5, endpoint=True)\n",
    "e"
   ]
  },
  {
   "cell_type": "markdown",
   "metadata": {
    "colab_type": "text",
    "id": "Q5iV5pGDBScG"
   },
   "source": [
    "### Other common array creation functions"
   ]
  },
  {
   "cell_type": "markdown",
   "metadata": {
    "colab_type": "text",
    "id": "De3i-v6gBezO"
   },
   "source": [
    "#### np.ones"
   ]
  },
  {
   "cell_type": "code",
   "execution_count": 15,
   "metadata": {
    "colab": {
     "base_uri": "https://localhost:8080/",
     "height": 791
    },
    "colab_type": "code",
    "id": "K-Vq7b2hnr2Z",
    "outputId": "95647e90-3d19-4799-de89-55c6336c0847"
   },
   "outputs": [
    {
     "name": "stdout",
     "output_type": "stream",
     "text": [
      "2D array filled with ones\n"
     ]
    },
    {
     "data": {
      "text/plain": [
       "array([[1., 1., 1.],\n",
       "       [1., 1., 1.],\n",
       "       [1., 1., 1.]])"
      ]
     },
     "execution_count": 15,
     "metadata": {},
     "output_type": "execute_result"
    },
    {
     "name": "stdout",
     "output_type": "stream",
     "text": [
      "\n",
      "\n",
      "3D array filled with ones\n"
     ]
    },
    {
     "data": {
      "text/plain": [
       "array([[[1., 1., 1.],\n",
       "        [1., 1., 1.],\n",
       "        [1., 1., 1.]],\n",
       "\n",
       "       [[1., 1., 1.],\n",
       "        [1., 1., 1.],\n",
       "        [1., 1., 1.]],\n",
       "\n",
       "       [[1., 1., 1.],\n",
       "        [1., 1., 1.],\n",
       "        [1., 1., 1.]]])"
      ]
     },
     "execution_count": 15,
     "metadata": {},
     "output_type": "execute_result"
    }
   ],
   "source": [
    "# Creates an array filled with ones, passing a tuple of the size\n",
    "print(\"2D array filled with ones\")\n",
    "a = np.ones((3, 3)) \n",
    "a\n",
    "\n",
    "print(\"\\n\\n3D array filled with ones\")\n",
    "\n",
    "b = np.ones((3, 3, 3))\n",
    "b"
   ]
  },
  {
   "cell_type": "markdown",
   "metadata": {
    "colab_type": "text",
    "id": "TgXQ9Bd1Bph_"
   },
   "source": [
    "#### np.zeros"
   ]
  },
  {
   "cell_type": "code",
   "execution_count": 16,
   "metadata": {
    "colab": {
     "base_uri": "https://localhost:8080/",
     "height": 53
    },
    "colab_type": "code",
    "id": "XVxxMga46T-B",
    "outputId": "e31300fc-8bd0-4af0-853a-e243ae666c09"
   },
   "outputs": [
    {
     "data": {
      "text/plain": [
       "array([[0., 0.],\n",
       "       [0., 0.]])"
      ]
     },
     "execution_count": 16,
     "metadata": {},
     "output_type": "execute_result"
    }
   ],
   "source": [
    "# Fill up an array with zeros\n",
    "b = np.zeros((2, 2))\n",
    "b"
   ]
  },
  {
   "cell_type": "markdown",
   "metadata": {
    "colab_type": "text",
    "id": "XaZrdgwTBwZ5"
   },
   "source": [
    "#### np.eye"
   ]
  },
  {
   "cell_type": "code",
   "execution_count": 17,
   "metadata": {
    "colab": {
     "base_uri": "https://localhost:8080/",
     "height": 71
    },
    "colab_type": "code",
    "id": "oznCuhy68n4b",
    "outputId": "8b73d111-36ac-4f76-db80-4136e1c6efd2"
   },
   "outputs": [
    {
     "data": {
      "text/plain": [
       "array([[1., 0., 0.],\n",
       "       [0., 1., 0.],\n",
       "       [0., 0., 1.]])"
      ]
     },
     "execution_count": 17,
     "metadata": {},
     "output_type": "execute_result"
    }
   ],
   "source": [
    "# Returns a 2-D array with ones on the diagonal and zeros elsewhere\n",
    "c = np.eye(3)\n",
    "c"
   ]
  },
  {
   "cell_type": "markdown",
   "metadata": {
    "colab_type": "text",
    "id": "j7kPI0FpB0MU"
   },
   "source": [
    "#### np.diag\n",
    "Extract a diagonal or construct a diagonal array."
   ]
  },
  {
   "cell_type": "code",
   "execution_count": 18,
   "metadata": {
    "colab": {
     "base_uri": "https://localhost:8080/",
     "height": 89
    },
    "colab_type": "code",
    "id": "bmSwAPWM8s2o",
    "outputId": "79c05d7a-ec2a-40e2-f011-332164c1e287"
   },
   "outputs": [
    {
     "data": {
      "text/plain": [
       "array([[1, 0, 0, 0],\n",
       "       [0, 2, 0, 0],\n",
       "       [0, 0, 3, 0],\n",
       "       [0, 0, 0, 4]])"
      ]
     },
     "execution_count": 18,
     "metadata": {},
     "output_type": "execute_result"
    }
   ],
   "source": [
    "d = np.diag(np.array([1, 2, 3, 4]))\n",
    "d"
   ]
  },
  {
   "cell_type": "markdown",
   "metadata": {
    "colab_type": "text",
    "id": "KC_Ls8KqB3Ud"
   },
   "source": [
    "#### np.random"
   ]
  },
  {
   "cell_type": "code",
   "execution_count": 19,
   "metadata": {
    "colab": {
     "base_uri": "https://localhost:8080/",
     "height": 53
    },
    "colab_type": "code",
    "id": "S7jfAQeM8uKJ",
    "outputId": "ab610a8c-0e5a-4e23-bbf9-a1415baaff97"
   },
   "outputs": [
    {
     "data": {
      "text/plain": [
       "array([0.17849895, 0.24153645, 0.12860704, 0.85898232])"
      ]
     },
     "execution_count": 19,
     "metadata": {},
     "output_type": "execute_result"
    },
    {
     "name": "stdout",
     "output_type": "stream",
     "text": [
      "\n",
      " [-0.84548646  1.29448001  0.18100503 -2.00682341]\n"
     ]
    }
   ],
   "source": [
    "# Random set between 0-1\n",
    "a = np.random.rand(4)       \n",
    "a  \n",
    "\n",
    "# Random with Gaussian distribution\n",
    "b = np.random.randn(4)    \n",
    "print(\"\\n\", b)   "
   ]
  },
  {
   "cell_type": "markdown",
   "metadata": {
    "colab_type": "text",
    "id": "CLL5f7Ov7QO9"
   },
   "source": [
    "## Understanding arrays: k3d\n",
    "\n",
    "We will install the **k3d** library, which allows to visualize arrays in 3D. Due to the fact that we cannot create interactive plots in Google Colab, we will use Jupyter Notebook in local. \n",
    "\n",
    "**WARNING** the below commands will not work in Google Colab."
   ]
  },
  {
   "cell_type": "code",
   "execution_count": 43,
   "metadata": {
    "colab": {},
    "colab_type": "code",
    "id": "fld2LbKO7Yds"
   },
   "outputs": [
    {
     "name": "stdout",
     "output_type": "stream",
     "text": [
      "Requirement already satisfied: k3d in /anaconda3/envs/bts36/lib/python3.6/site-packages (2.6.10)\n",
      "Requirement already satisfied: ipywidgets>=7.0.1 in /anaconda3/envs/bts36/lib/python3.6/site-packages (from k3d) (7.5.1)\n",
      "Requirement already satisfied: traittypes in /anaconda3/envs/bts36/lib/python3.6/site-packages (from k3d) (0.2.1)\n",
      "Requirement already satisfied: numpy>=1.11.0 in /anaconda3/envs/bts36/lib/python3.6/site-packages (from k3d) (1.17.2)\n",
      "Requirement already satisfied: ipydatawidgets in /anaconda3/envs/bts36/lib/python3.6/site-packages (from k3d) (4.0.1)\n",
      "Requirement already satisfied: traitlets in /anaconda3/envs/bts36/lib/python3.6/site-packages (from k3d) (4.3.3)\n",
      "Requirement already satisfied: ipython>=4.0.0; python_version >= \"3.3\" in /anaconda3/envs/bts36/lib/python3.6/site-packages (from ipywidgets>=7.0.1->k3d) (7.8.0)\n",
      "Requirement already satisfied: widgetsnbextension~=3.5.0 in /anaconda3/envs/bts36/lib/python3.6/site-packages (from ipywidgets>=7.0.1->k3d) (3.5.1)\n",
      "Requirement already satisfied: nbformat>=4.2.0 in /anaconda3/envs/bts36/lib/python3.6/site-packages (from ipywidgets>=7.0.1->k3d) (4.4.0)\n",
      "Requirement already satisfied: ipykernel>=4.5.1 in /anaconda3/envs/bts36/lib/python3.6/site-packages (from ipywidgets>=7.0.1->k3d) (5.1.2)\n",
      "Requirement already satisfied: six in /anaconda3/envs/bts36/lib/python3.6/site-packages (from ipydatawidgets->k3d) (1.12.0)\n",
      "Requirement already satisfied: decorator in /anaconda3/envs/bts36/lib/python3.6/site-packages (from traitlets->k3d) (4.4.0)\n",
      "Requirement already satisfied: ipython-genutils in /anaconda3/envs/bts36/lib/python3.6/site-packages (from traitlets->k3d) (0.2.0)\n",
      "Requirement already satisfied: backcall in /anaconda3/envs/bts36/lib/python3.6/site-packages (from ipython>=4.0.0; python_version >= \"3.3\"->ipywidgets>=7.0.1->k3d) (0.1.0)\n",
      "Requirement already satisfied: prompt-toolkit<2.1.0,>=2.0.0 in /anaconda3/envs/bts36/lib/python3.6/site-packages (from ipython>=4.0.0; python_version >= \"3.3\"->ipywidgets>=7.0.1->k3d) (2.0.10)\n",
      "Requirement already satisfied: pexpect; sys_platform != \"win32\" in /anaconda3/envs/bts36/lib/python3.6/site-packages (from ipython>=4.0.0; python_version >= \"3.3\"->ipywidgets>=7.0.1->k3d) (4.7.0)\n",
      "Requirement already satisfied: appnope; sys_platform == \"darwin\" in /anaconda3/envs/bts36/lib/python3.6/site-packages (from ipython>=4.0.0; python_version >= \"3.3\"->ipywidgets>=7.0.1->k3d) (0.1.0)\n",
      "Requirement already satisfied: pygments in /anaconda3/envs/bts36/lib/python3.6/site-packages (from ipython>=4.0.0; python_version >= \"3.3\"->ipywidgets>=7.0.1->k3d) (2.4.2)\n",
      "Requirement already satisfied: jedi>=0.10 in /anaconda3/envs/bts36/lib/python3.6/site-packages (from ipython>=4.0.0; python_version >= \"3.3\"->ipywidgets>=7.0.1->k3d) (0.15.1)\n",
      "Requirement already satisfied: setuptools>=18.5 in /anaconda3/envs/bts36/lib/python3.6/site-packages (from ipython>=4.0.0; python_version >= \"3.3\"->ipywidgets>=7.0.1->k3d) (41.4.0)\n",
      "Requirement already satisfied: pickleshare in /anaconda3/envs/bts36/lib/python3.6/site-packages (from ipython>=4.0.0; python_version >= \"3.3\"->ipywidgets>=7.0.1->k3d) (0.7.5)\n",
      "Requirement already satisfied: notebook>=4.4.1 in /anaconda3/envs/bts36/lib/python3.6/site-packages (from widgetsnbextension~=3.5.0->ipywidgets>=7.0.1->k3d) (6.0.1)\n",
      "Requirement already satisfied: jsonschema!=2.5.0,>=2.4 in /anaconda3/envs/bts36/lib/python3.6/site-packages (from nbformat>=4.2.0->ipywidgets>=7.0.1->k3d) (3.1.1)\n",
      "Requirement already satisfied: jupyter_core in /anaconda3/envs/bts36/lib/python3.6/site-packages (from nbformat>=4.2.0->ipywidgets>=7.0.1->k3d) (4.5.0)\n",
      "Requirement already satisfied: tornado>=4.2 in /anaconda3/envs/bts36/lib/python3.6/site-packages (from ipykernel>=4.5.1->ipywidgets>=7.0.1->k3d) (6.0.3)\n",
      "Requirement already satisfied: jupyter-client in /anaconda3/envs/bts36/lib/python3.6/site-packages (from ipykernel>=4.5.1->ipywidgets>=7.0.1->k3d) (5.3.3)\n",
      "Requirement already satisfied: wcwidth in /anaconda3/envs/bts36/lib/python3.6/site-packages (from prompt-toolkit<2.1.0,>=2.0.0->ipython>=4.0.0; python_version >= \"3.3\"->ipywidgets>=7.0.1->k3d) (0.1.7)\n",
      "Requirement already satisfied: ptyprocess>=0.5 in /anaconda3/envs/bts36/lib/python3.6/site-packages (from pexpect; sys_platform != \"win32\"->ipython>=4.0.0; python_version >= \"3.3\"->ipywidgets>=7.0.1->k3d) (0.6.0)\n",
      "Requirement already satisfied: parso>=0.5.0 in /anaconda3/envs/bts36/lib/python3.6/site-packages (from jedi>=0.10->ipython>=4.0.0; python_version >= \"3.3\"->ipywidgets>=7.0.1->k3d) (0.5.1)\n",
      "Requirement already satisfied: Send2Trash in /anaconda3/envs/bts36/lib/python3.6/site-packages (from notebook>=4.4.1->widgetsnbextension~=3.5.0->ipywidgets>=7.0.1->k3d) (1.5.0)\n",
      "Requirement already satisfied: terminado>=0.8.1 in /anaconda3/envs/bts36/lib/python3.6/site-packages (from notebook>=4.4.1->widgetsnbextension~=3.5.0->ipywidgets>=7.0.1->k3d) (0.8.2)\n",
      "Requirement already satisfied: jinja2 in /anaconda3/envs/bts36/lib/python3.6/site-packages (from notebook>=4.4.1->widgetsnbextension~=3.5.0->ipywidgets>=7.0.1->k3d) (2.10.3)\n",
      "Requirement already satisfied: prometheus-client in /anaconda3/envs/bts36/lib/python3.6/site-packages (from notebook>=4.4.1->widgetsnbextension~=3.5.0->ipywidgets>=7.0.1->k3d) (0.7.1)\n",
      "Requirement already satisfied: pyzmq>=17 in /anaconda3/envs/bts36/lib/python3.6/site-packages (from notebook>=4.4.1->widgetsnbextension~=3.5.0->ipywidgets>=7.0.1->k3d) (18.1.0)\n",
      "Requirement already satisfied: nbconvert in /anaconda3/envs/bts36/lib/python3.6/site-packages (from notebook>=4.4.1->widgetsnbextension~=3.5.0->ipywidgets>=7.0.1->k3d) (5.6.0)\n",
      "Requirement already satisfied: importlib-metadata in /anaconda3/envs/bts36/lib/python3.6/site-packages (from jsonschema!=2.5.0,>=2.4->nbformat>=4.2.0->ipywidgets>=7.0.1->k3d) (0.23)\n",
      "Requirement already satisfied: attrs>=17.4.0 in /anaconda3/envs/bts36/lib/python3.6/site-packages (from jsonschema!=2.5.0,>=2.4->nbformat>=4.2.0->ipywidgets>=7.0.1->k3d) (19.2.0)\n",
      "Requirement already satisfied: pyrsistent>=0.14.0 in /anaconda3/envs/bts36/lib/python3.6/site-packages (from jsonschema!=2.5.0,>=2.4->nbformat>=4.2.0->ipywidgets>=7.0.1->k3d) (0.15.4)\n",
      "Requirement already satisfied: python-dateutil>=2.1 in /anaconda3/envs/bts36/lib/python3.6/site-packages (from jupyter-client->ipykernel>=4.5.1->ipywidgets>=7.0.1->k3d) (2.8.0)\n",
      "Requirement already satisfied: MarkupSafe>=0.23 in /anaconda3/envs/bts36/lib/python3.6/site-packages (from jinja2->notebook>=4.4.1->widgetsnbextension~=3.5.0->ipywidgets>=7.0.1->k3d) (1.1.1)\n",
      "Requirement already satisfied: entrypoints>=0.2.2 in /anaconda3/envs/bts36/lib/python3.6/site-packages (from nbconvert->notebook>=4.4.1->widgetsnbextension~=3.5.0->ipywidgets>=7.0.1->k3d) (0.3)\n",
      "Requirement already satisfied: testpath in /anaconda3/envs/bts36/lib/python3.6/site-packages (from nbconvert->notebook>=4.4.1->widgetsnbextension~=3.5.0->ipywidgets>=7.0.1->k3d) (0.4.2)\n",
      "Requirement already satisfied: pandocfilters>=1.4.1 in /anaconda3/envs/bts36/lib/python3.6/site-packages (from nbconvert->notebook>=4.4.1->widgetsnbextension~=3.5.0->ipywidgets>=7.0.1->k3d) (1.4.2)\n",
      "Requirement already satisfied: mistune<2,>=0.8.1 in /anaconda3/envs/bts36/lib/python3.6/site-packages (from nbconvert->notebook>=4.4.1->widgetsnbextension~=3.5.0->ipywidgets>=7.0.1->k3d) (0.8.4)\n",
      "Requirement already satisfied: bleach in /anaconda3/envs/bts36/lib/python3.6/site-packages (from nbconvert->notebook>=4.4.1->widgetsnbextension~=3.5.0->ipywidgets>=7.0.1->k3d) (3.1.0)\n",
      "Requirement already satisfied: defusedxml in /anaconda3/envs/bts36/lib/python3.6/site-packages (from nbconvert->notebook>=4.4.1->widgetsnbextension~=3.5.0->ipywidgets>=7.0.1->k3d) (0.6.0)\n",
      "Requirement already satisfied: zipp>=0.5 in /anaconda3/envs/bts36/lib/python3.6/site-packages (from importlib-metadata->jsonschema!=2.5.0,>=2.4->nbformat>=4.2.0->ipywidgets>=7.0.1->k3d) (0.6.0)\n",
      "Requirement already satisfied: webencodings in /anaconda3/envs/bts36/lib/python3.6/site-packages (from bleach->nbconvert->notebook>=4.4.1->widgetsnbextension~=3.5.0->ipywidgets>=7.0.1->k3d) (0.5.1)\n",
      "Requirement already satisfied: more-itertools in /anaconda3/envs/bts36/lib/python3.6/site-packages (from zipp>=0.5->importlib-metadata->jsonschema!=2.5.0,>=2.4->nbformat>=4.2.0->ipywidgets>=7.0.1->k3d) (7.2.0)\n"
     ]
    },
    {
     "name": "stdout",
     "output_type": "stream",
     "text": [
      "Collecting package metadata (current_repodata.json): done\n",
      "Solving environment: done\n",
      "\n",
      "\n",
      "==> WARNING: A newer version of conda exists. <==\n",
      "  current version: 4.7.10\n",
      "  latest version: 4.7.12\n",
      "\n",
      "Please update conda by running\n",
      "\n",
      "    $ conda update -n base -c defaults conda\n",
      "\n",
      "\n",
      "\n",
      "## Package Plan ##\n",
      "\n",
      "  environment location: //anaconda3/envs/bts36\n",
      "\n",
      "  added / updated specs:\n",
      "    - k3d\n",
      "\n",
      "\n",
      "The following NEW packages will be INSTALLED:\n",
      "\n",
      "  ipydatawidgets     conda-forge/noarch::ipydatawidgets-4.0.1-py_0\n",
      "  ipyscales          conda-forge/noarch::ipyscales-0.3.0-py_0\n",
      "  k3d                conda-forge/noarch::k3d-2.6.10-py_0\n",
      "  sip                pkgs/main/osx-64::sip-4.19.8-py36h0a44026_0\n",
      "  traittypes         conda-forge/noarch::traittypes-0.2.1-py_1\n",
      "\n",
      "The following packages will be REMOVED:\n",
      "\n",
      "  libclang-8.0.1-h770b8ee_1\n",
      "\n",
      "The following packages will be DOWNGRADED:\n",
      "\n",
      "  pyqt                                5.12.3-py36h2a560b1_0 --> 5.9.2-py36h2a560b1_4\n",
      "  qt                                      5.12.5-h1b46049_0 --> 5.9.7-h8cf7e54_3\n",
      "\n",
      "\n",
      "Proceed ([y]/n)? ^C\n",
      "\n",
      "CondaSystemExit: \n",
      "Operation aborted.  Exiting.\n",
      "\n"
     ]
    }
   ],
   "source": [
    "# Install in your environment (venv or conda)\n",
    "!pip install k3d\n",
    "!conda install -c conda-forge k3d"
   ]
  },
  {
   "cell_type": "code",
   "execution_count": 44,
   "metadata": {
    "colab": {},
    "colab_type": "code",
    "id": "EatK6Y1E8MJ-"
   },
   "outputs": [
    {
     "data": {
      "application/vnd.jupyter.widget-view+json": {
       "model_id": "df3f482baa9d4f3da1cf7551ee85b8cd",
       "version_major": 2,
       "version_minor": 0
      },
      "text/plain": [
       "Output()"
      ]
     },
     "metadata": {},
     "output_type": "display_data"
    }
   ],
   "source": [
    "%matplotlib inline\n",
    "import numpy as np\n",
    "import k3d\n",
    "\n",
    "plot = k3d.plot()\n",
    "\n",
    "b = np.ones((1, 1, 1))\n",
    "\n",
    "line = k3d.voxels(b, width=1, scaling = [1, 1, 1])\n",
    "\n",
    "# iadd method, iterates over voxel\n",
    "plot += line\n",
    "plot.display()"
   ]
  },
  {
   "cell_type": "code",
   "execution_count": 46,
   "metadata": {
    "colab": {},
    "colab_type": "code",
    "id": "OaSxkxs7JvqZ"
   },
   "outputs": [
    {
     "data": {
      "application/vnd.jupyter.widget-view+json": {
       "model_id": "c1da958957ac42e3a3a4a70d873eed0e",
       "version_major": 2,
       "version_minor": 0
      },
      "text/plain": [
       "Output()"
      ]
     },
     "metadata": {},
     "output_type": "display_data"
    }
   ],
   "source": [
    "%matplotlib inline\n",
    "import numpy as np\n",
    "import k3d\n",
    "\n",
    "plot = k3d.plot()\n",
    "\n",
    "b = np.array([[[18, 1, 2], [3, 4, 5]], \n",
    "              [[6, 7, 8], [9, 10, 11]], \n",
    "              [[12, 13, 14], [15, 16, 17]]])\n",
    "\n",
    "voxel = k3d.voxels(b, width=1, scaling = [1, 1, 1])\n",
    "\n",
    "# iadd method, iterates over voxel\n",
    "plot += voxel\n",
    "plot.display()"
   ]
  },
  {
   "cell_type": "markdown",
   "metadata": {
    "colab_type": "text",
    "id": "FnySBjCGKN9d"
   },
   "source": [
    "### In class exercise: 3D representations\n",
    "\n",
    "Try to add and represent another dimension to make a 3x3x3 array using k3d"
   ]
  },
  {
   "cell_type": "code",
   "execution_count": 23,
   "metadata": {
    "colab": {},
    "colab_type": "code",
    "id": "S0CrFZx-KsqU"
   },
   "outputs": [
    {
     "data": {
      "application/vnd.jupyter.widget-view+json": {
       "model_id": "3b10a936734047da9642bb41794ceaa6",
       "version_major": 2,
       "version_minor": 0
      },
      "text/plain": [
       "Output()"
      ]
     },
     "metadata": {},
     "output_type": "display_data"
    }
   ],
   "source": [
    "%matplotlib inline\n",
    "import numpy as np\n",
    "import k3d\n",
    "\n",
    "plot = k3d.plot()\n",
    "\n",
    "b = np.array([[[18, 1, 2], [3, 4, 5]], \n",
    "              [[6, 7, 8], [9, 10, 11]], \n",
    "              [[12, 13, 14], [15, 16, 17]]])\n",
    "\n",
    "voxel = k3d.voxels(b, width=1, scaling = [1, 1, 1])\n",
    "\n",
    "# iadd method, iterates over voxel\n",
    "plot += voxel\n",
    "plot.display()"
   ]
  },
  {
   "cell_type": "markdown",
   "metadata": {
    "colab_type": "text",
    "id": "hH9MRPGWOkjR"
   },
   "source": [
    "## NumPy data types\n",
    "\n",
    "NumPy has five main type of datatypes. But always the default data for any function (np.zeros, etc.) is floating point:\n",
    "\n",
    "* Integer\n",
    "* Float\n",
    "* Boolean\n",
    "* Complex\n",
    "* String\n"
   ]
  },
  {
   "cell_type": "code",
   "execution_count": 24,
   "metadata": {
    "colab": {
     "base_uri": "https://localhost:8080/",
     "height": 35
    },
    "colab_type": "code",
    "id": "m4Af9UXsxecQ",
    "outputId": "fd491dc7-6a75-4b06-bbbf-52f742d0bcc3"
   },
   "outputs": [
    {
     "data": {
      "text/plain": [
       "dtype('int64')"
      ]
     },
     "execution_count": 24,
     "metadata": {},
     "output_type": "execute_result"
    }
   ],
   "source": [
    "# Integer\n",
    "a = np.array([1, 2, 3])\n",
    "a.dtype"
   ]
  },
  {
   "cell_type": "code",
   "execution_count": 25,
   "metadata": {
    "colab": {
     "base_uri": "https://localhost:8080/",
     "height": 35
    },
    "colab_type": "code",
    "id": "tXVGSpdKxeaF",
    "outputId": "8057a4a8-897a-418e-d38b-82a4cbd895d2"
   },
   "outputs": [
    {
     "data": {
      "text/plain": [
       "dtype('float64')"
      ]
     },
     "execution_count": 25,
     "metadata": {},
     "output_type": "execute_result"
    }
   ],
   "source": [
    "# Float\n",
    "b = np.array([1., 2., 3.])\n",
    "b.dtype"
   ]
  },
  {
   "cell_type": "code",
   "execution_count": 26,
   "metadata": {
    "colab": {
     "base_uri": "https://localhost:8080/",
     "height": 35
    },
    "colab_type": "code",
    "id": "_QT6MuKyxeW-",
    "outputId": "bbc1a32e-b8fd-42ed-844d-82907e3ac0c9"
   },
   "outputs": [
    {
     "data": {
      "text/plain": [
       "dtype('float64')"
      ]
     },
     "execution_count": 26,
     "metadata": {},
     "output_type": "execute_result"
    }
   ],
   "source": [
    "# Changing data type\n",
    "c = np.array([1, 2, 3], dtype=float)\n",
    "c.dtype"
   ]
  },
  {
   "cell_type": "code",
   "execution_count": 27,
   "metadata": {
    "colab": {
     "base_uri": "https://localhost:8080/",
     "height": 35
    },
    "colab_type": "code",
    "id": "2ig4A8kqxyx9",
    "outputId": "9622f06e-a2db-43af-f378-d84f0a25abaf"
   },
   "outputs": [
    {
     "data": {
      "text/plain": [
       "dtype('complex128')"
      ]
     },
     "execution_count": 27,
     "metadata": {},
     "output_type": "execute_result"
    }
   ],
   "source": [
    "# Complex\n",
    "d = np.array([1+2j, 3+4j, 5+6*1j])\n",
    "d.dtype"
   ]
  },
  {
   "cell_type": "code",
   "execution_count": 28,
   "metadata": {
    "colab": {
     "base_uri": "https://localhost:8080/",
     "height": 35
    },
    "colab_type": "code",
    "id": "NXSN6ImxyCKo",
    "outputId": "fc7c9b28-ed4d-4d10-812c-f5fcc0fcc15f"
   },
   "outputs": [
    {
     "data": {
      "text/plain": [
       "dtype('bool')"
      ]
     },
     "execution_count": 28,
     "metadata": {},
     "output_type": "execute_result"
    }
   ],
   "source": [
    "# Bool\n",
    "e = np.array([True, False, False, True])\n",
    "e.dtype"
   ]
  },
  {
   "cell_type": "code",
   "execution_count": 29,
   "metadata": {
    "colab": {
     "base_uri": "https://localhost:8080/",
     "height": 35
    },
    "colab_type": "code",
    "id": "ileivbA4yEDN",
    "outputId": "f6c48c04-6962-41a1-c13d-a754ced57a6a"
   },
   "outputs": [
    {
     "data": {
      "text/plain": [
       "dtype('<U7')"
      ]
     },
     "execution_count": 29,
     "metadata": {},
     "output_type": "execute_result"
    }
   ],
   "source": [
    "# Strings (containing max the letters of the longest word)\n",
    "f = np.array(['Bonjour', 'Hello', 'Hallo'])\n",
    "f.dtype      \n"
   ]
  },
  {
   "cell_type": "markdown",
   "metadata": {
    "colab_type": "text",
    "id": "uhJ6kdvfykOb"
   },
   "source": [
    "## Basic array visualization with Matplotlib\n",
    "\n",
    "Not as cool as K3D, but still useful! We will be using here **Matplotlib** for \"first\" time.\n",
    "\n",
    "We use `%matplotlib inline` in our first call always, when working in notebooks. So that the `plot` statement does not plot the image onto a new window but rather \"inline\" the notebook cell. \n",
    "\n",
    "We usually import matplotlib like this:   "
   ]
  },
  {
   "cell_type": "code",
   "execution_count": 30,
   "metadata": {
    "colab": {},
    "colab_type": "code",
    "id": "ZvE8uEHPz5PU"
   },
   "outputs": [],
   "source": [
    "%matplotlib inline  "
   ]
  },
  {
   "cell_type": "code",
   "execution_count": 31,
   "metadata": {
    "colab": {},
    "colab_type": "code",
    "id": "ClvxhBisz5MN"
   },
   "outputs": [],
   "source": [
    "import matplotlib.pyplot as plt"
   ]
  },
  {
   "cell_type": "markdown",
   "metadata": {
    "colab_type": "text",
    "id": "wYn9wtZs3wPI"
   },
   "source": [
    "### 1D array plotting"
   ]
  },
  {
   "cell_type": "code",
   "execution_count": 32,
   "metadata": {
    "colab": {
     "base_uri": "https://localhost:8080/",
     "height": 287
    },
    "colab_type": "code",
    "id": "o6LPNZCTyt6v",
    "outputId": "520b84db-0ce2-45e1-a5b4-6cf2a311fb99"
   },
   "outputs": [
    {
     "data": {
      "text/plain": [
       "[<matplotlib.lines.Line2D at 0x115e45908>]"
      ]
     },
     "execution_count": 32,
     "metadata": {},
     "output_type": "execute_result"
    },
    {
     "data": {
      "text/plain": [
       "[<matplotlib.lines.Line2D at 0x115dc83c8>]"
      ]
     },
     "execution_count": 32,
     "metadata": {},
     "output_type": "execute_result"
    },
    {
     "data": {
      "image/png": "[encoded data removed]",
      "text/plain": [
       "<Figure size 432x288 with 1 Axes>"
      ]
     },
     "metadata": {
      "needs_background": "light"
     },
     "output_type": "display_data"
    }
   ],
   "source": [
    "# Create a linear array from 0 to 3, with 20 steps\n",
    "x = np.linspace(0, 3, 20)\n",
    "\n",
    "# Create a linear array from 0 to 9, with 20 steps\n",
    "y = np.linspace(0, 9, 20)\n",
    "\n",
    "# Plot the line x, y\n",
    "plt.plot(x, y)       \n",
    "\n",
    "# Plot the dots x, y\n",
    "plt.plot(x, y, 'o')    "
   ]
  },
  {
   "cell_type": "markdown",
   "metadata": {
    "colab_type": "text",
    "id": "rBO0S7-Y4SyL"
   },
   "source": [
    "### 2D array plotting\n",
    "Due to their structure, 2D arrays needs to be plotted as images. There is no need to panic. Let's go step by step."
   ]
  },
  {
   "cell_type": "code",
   "execution_count": 33,
   "metadata": {
    "colab": {
     "base_uri": "https://localhost:8080/",
     "height": 287
    },
    "colab_type": "code",
    "id": "56tKC5vG4cxa",
    "outputId": "1f2214b9-7e2e-4501-c91e-8df2fd556f0c"
   },
   "outputs": [
    {
     "data": {
      "text/plain": [
       "<matplotlib.image.AxesImage at 0x115ed3f98>"
      ]
     },
     "execution_count": 33,
     "metadata": {},
     "output_type": "execute_result"
    },
    {
     "data": {
      "text/plain": [
       "<matplotlib.colorbar.Colorbar at 0x115f60b00>"
      ]
     },
     "execution_count": 33,
     "metadata": {},
     "output_type": "execute_result"
    },
    {
     "data": {
      "image/png": "[encoded data removed]",
      "text/plain": [
       "<Figure size 432x288 with 2 Axes>"
      ]
     },
     "metadata": {
      "needs_background": "light"
     },
     "output_type": "display_data"
    }
   ],
   "source": [
    "# Let's create a Gaussian image of 30x30\n",
    "image = np.random.randn(30, 30)\n",
    "\n",
    "# Let's plot the image with imshow, and select a colormap\n",
    "plt.imshow(image, cmap=plt.cm.hot)    \n",
    "\n",
    "# Let's add a colorbar as an index\n",
    "plt.colorbar()  "
   ]
  },
  {
   "cell_type": "markdown",
   "metadata": {
    "colab_type": "text",
    "id": "cG2JtGYy7IbF"
   },
   "source": [
    "#### Where can I find more color maps?\n",
    "\n",
    "You can find a complete source of colormaps [here](https://matplotlib.org/3.1.1/gallery/color/colormap_reference.html)"
   ]
  },
  {
   "cell_type": "markdown",
   "metadata": {
    "colab_type": "text",
    "id": "znj0f0e570Nh"
   },
   "source": [
    "### In class exercise: change the colormap\n",
    "\n",
    "Change the colormap in the image to be visualized with one of the available matplotlib colormaps."
   ]
  },
  {
   "cell_type": "code",
   "execution_count": 34,
   "metadata": {
    "colab": {
     "base_uri": "https://localhost:8080/",
     "height": 287
    },
    "colab_type": "code",
    "id": "UXpCQZf0yuLA",
    "outputId": "f35f6ce6-8f32-406c-f144-ed6c2a38f847"
   },
   "outputs": [
    {
     "ename": "SyntaxError",
     "evalue": "invalid syntax (<ipython-input-34-993e6eede4aa>, line 5)",
     "output_type": "error",
     "traceback": [
      "\u001b[0;36m  File \u001b[0;32m\"<ipython-input-34-993e6eede4aa>\"\u001b[0;36m, line \u001b[0;32m5\u001b[0m\n\u001b[0;31m    plt.imshow(image, cmap=plt.cm.?)\u001b[0m\n\u001b[0m                                  ^\u001b[0m\n\u001b[0;31mSyntaxError\u001b[0m\u001b[0;31m:\u001b[0m invalid syntax\n"
     ]
    }
   ],
   "source": [
    "# Let's create a Gaussian image of 30x30\n",
    "image = np.random.randn(30, 30)\n",
    "\n",
    "# Let's plot the image with imshow, and select a colormap\n",
    "plt.imshow(image, cmap=plt.cm.?)    \n",
    "\n",
    "# Let's add a colorbar as an index\n",
    "plt.colorbar() "
   ]
  },
  {
   "cell_type": "markdown",
   "metadata": {
    "colab_type": "text",
    "id": "UJmYaAuy_m0S"
   },
   "source": [
    "## NumPy indexing\n",
    "\n",
    "Another recap from the previous sessions. Remember that indices always in NumPy begin at O.\n",
    "\n",
    "![alt text](https://scipy-lectures.org/_images/numpy_indexing.png)"
   ]
  },
  {
   "cell_type": "markdown",
   "metadata": {
    "colab_type": "text",
    "id": "vn1Xi7DoGjAi"
   },
   "source": [
    "### Access items of array"
   ]
  },
  {
   "cell_type": "code",
   "execution_count": null,
   "metadata": {
    "colab": {
     "base_uri": "https://localhost:8080/",
     "height": 35
    },
    "colab_type": "code",
    "id": "bkkIIHO3yuH2",
    "outputId": "9b6da06d-d49f-474f-97f8-70fe501c26fd"
   },
   "outputs": [],
   "source": [
    "a = np.arange(11)\n",
    "a"
   ]
  },
  {
   "cell_type": "code",
   "execution_count": null,
   "metadata": {
    "colab": {
     "base_uri": "https://localhost:8080/",
     "height": 35
    },
    "colab_type": "code",
    "id": "7CXd2PoHyuEs",
    "outputId": "30c47a8c-8562-4f5f-cd94-043cbf0a570b"
   },
   "outputs": [],
   "source": [
    "a[0], a[2], a[-1]"
   ]
  },
  {
   "cell_type": "markdown",
   "metadata": {
    "colab_type": "text",
    "id": "TLVdiyLKG4vk"
   },
   "source": [
    "### Reverse a sequence"
   ]
  },
  {
   "cell_type": "code",
   "execution_count": null,
   "metadata": {
    "colab": {
     "base_uri": "https://localhost:8080/",
     "height": 35
    },
    "colab_type": "code",
    "id": "Atje-VRPyuCd",
    "outputId": "ad1ecd24-8ee4-4617-a3da-fae2271e7bc0"
   },
   "outputs": [],
   "source": [
    "a[::-1]"
   ]
  },
  {
   "cell_type": "markdown",
   "metadata": {
    "colab_type": "text",
    "id": "hQ02eFb0HC5I"
   },
   "source": [
    "### Multidimensional arrays\n",
    "\n",
    "Indexes in multidimensional arrays are tupes of integers.\n",
    "\n",
    "In 2D, the first dimension corresponds to rows, the second to columns.\n",
    "F\n",
    "or multidimensional `a` or `a[0]` is interpreted by taking all elements in the unspecified dimensions."
   ]
  },
  {
   "cell_type": "markdown",
   "metadata": {
    "colab_type": "text",
    "id": "0t6GSGcRJF3z"
   },
   "source": [
    "#### Indexing"
   ]
  },
  {
   "cell_type": "code",
   "execution_count": null,
   "metadata": {
    "colab": {
     "base_uri": "https://localhost:8080/",
     "height": 72
    },
    "colab_type": "code",
    "id": "fno7qXUNyuA1",
    "outputId": "2a3d307b-e6c5-4fdc-d9c3-aaa091088d64"
   },
   "outputs": [],
   "source": [
    "a = np.diag(np.arange(3))\n",
    "a"
   ]
  },
  {
   "cell_type": "code",
   "execution_count": null,
   "metadata": {
    "colab": {
     "base_uri": "https://localhost:8080/",
     "height": 35
    },
    "colab_type": "code",
    "id": "3sNpHgqsH9rj",
    "outputId": "e85ff05a-c5a4-41b6-c7c2-7d179d896e3c"
   },
   "outputs": [],
   "source": [
    "# Second line, second column\n",
    "a[1, 1]"
   ]
  },
  {
   "cell_type": "code",
   "execution_count": null,
   "metadata": {
    "colab": {
     "base_uri": "https://localhost:8080/",
     "height": 72
    },
    "colab_type": "code",
    "id": "zHDywLQ6IGD7",
    "outputId": "cf3467a5-9a64-45b2-b4b2-1ab274d7b9e8"
   },
   "outputs": [],
   "source": [
    "# Change for number 99 in Third line, Second column\n",
    "a[2, 1] = 99 \n",
    "a"
   ]
  },
  {
   "cell_type": "code",
   "execution_count": null,
   "metadata": {
    "colab": {
     "base_uri": "https://localhost:8080/",
     "height": 35
    },
    "colab_type": "code",
    "id": "UF43IBNFIU8t",
    "outputId": "fe48048d-cecb-4ff6-d7ee-2685561f634a"
   },
   "outputs": [],
   "source": [
    "# Retrieve second line\n",
    "a[1]"
   ]
  },
  {
   "cell_type": "markdown",
   "metadata": {
    "colab_type": "text",
    "id": "mK0iebYJJIgB"
   },
   "source": [
    "#### Slicing\n",
    "By default, the three slice components are not required: by default, start is 0, end is the last and step is 1"
   ]
  },
  {
   "cell_type": "code",
   "execution_count": null,
   "metadata": {
    "colab": {
     "base_uri": "https://localhost:8080/",
     "height": 35
    },
    "colab_type": "code",
    "id": "yFlbsrfpJBMY",
    "outputId": "e5eb81a8-8a01-4d4a-be4d-6678d036d262"
   },
   "outputs": [],
   "source": [
    "a = np.arange(11)\n",
    "a"
   ]
  },
  {
   "cell_type": "code",
   "execution_count": null,
   "metadata": {
    "colab": {
     "base_uri": "https://localhost:8080/",
     "height": 35
    },
    "colab_type": "code",
    "id": "J5nHuJBvJXgk",
    "outputId": "84227555-eaf3-4d0d-87a9-3dcf2945385b"
   },
   "outputs": [],
   "source": [
    "# [start:end:step]\n",
    "a[0:11:2] "
   ]
  },
  {
   "cell_type": "code",
   "execution_count": null,
   "metadata": {
    "colab": {
     "base_uri": "https://localhost:8080/",
     "height": 35
    },
    "colab_type": "code",
    "id": "bk3T4W3aJiV7",
    "outputId": "0a245362-933c-456f-a5ec-46d9cc26e5ba"
   },
   "outputs": [],
   "source": [
    "# The last index is never included!!!!!\n",
    "a[:10]"
   ]
  },
  {
   "cell_type": "code",
   "execution_count": null,
   "metadata": {
    "colab": {
     "base_uri": "https://localhost:8080/",
     "height": 108
    },
    "colab_type": "code",
    "id": "7q4OX6QYJxBM",
    "outputId": "d69ec486-bc0b-498a-8fe5-825413e9d020"
   },
   "outputs": [],
   "source": [
    "# By default, start is 0, end is the last and step is 1.\n",
    "a[1:3]\n",
    "print(\"\\n\")\n",
    "a[::2]\n",
    "print(\"\\n\")\n",
    "a[3:]"
   ]
  },
  {
   "cell_type": "code",
   "execution_count": null,
   "metadata": {
    "colab": {
     "base_uri": "https://localhost:8080/",
     "height": 72
    },
    "colab_type": "code",
    "id": "85oFjNNeLddf",
    "outputId": "50f7f13e-7dca-45b1-9106-4f8f91657040"
   },
   "outputs": [],
   "source": [
    "# Combination of assignment and slicing\n",
    "a[1:4] = -4\n",
    "a\n",
    "print(\"\\n\")\n",
    "a[::4] = 99\n",
    "a"
   ]
  },
  {
   "cell_type": "markdown",
   "metadata": {
    "colab_type": "text",
    "id": "ftZ5TSvFMNbA"
   },
   "source": [
    "## Copies vs. views\n",
    "\n",
    "A slicing operation creates a view on the original array, which is just a way of accessing array data. Thus the original array is not copied in memory. You can use \n",
    "\n",
    "`np.may_share_memory()` to check if two arrays share the same memory block. Note however, that this uses heuristics and may give you false positives."
   ]
  },
  {
   "cell_type": "code",
   "execution_count": null,
   "metadata": {
    "colab": {
     "base_uri": "https://localhost:8080/",
     "height": 35
    },
    "colab_type": "code",
    "id": "8GzHgbAGOwpq",
    "outputId": "51cb159e-2f9f-4db4-f3b9-9a2f50876082"
   },
   "outputs": [],
   "source": [
    "a = np.arange(10)\n",
    "a"
   ]
  },
  {
   "cell_type": "code",
   "execution_count": null,
   "metadata": {
    "colab": {
     "base_uri": "https://localhost:8080/",
     "height": 35
    },
    "colab_type": "code",
    "id": "5G4etoGlO3ri",
    "outputId": "e2f2091f-3bdb-4686-b982-89c4be425797"
   },
   "outputs": [],
   "source": [
    "b = a[::2]\n",
    "b"
   ]
  },
  {
   "cell_type": "code",
   "execution_count": null,
   "metadata": {
    "colab": {
     "base_uri": "https://localhost:8080/",
     "height": 35
    },
    "colab_type": "code",
    "id": "thqBGoNNO7QM",
    "outputId": "dd19b579-13f2-4933-a489-74e459bece7d"
   },
   "outputs": [],
   "source": [
    "np.may_share_memory(a, b)"
   ]
  },
  {
   "cell_type": "code",
   "execution_count": null,
   "metadata": {
    "colab": {
     "base_uri": "https://localhost:8080/",
     "height": 35
    },
    "colab_type": "code",
    "id": "lcd0otSTPAPA",
    "outputId": "60b47877-ef21-4190-a569-3754ce2da6eb"
   },
   "outputs": [],
   "source": [
    "# When we change an index in the view\n",
    "b[0] = 12\n",
    "b"
   ]
  },
  {
   "cell_type": "code",
   "execution_count": null,
   "metadata": {
    "colab": {
     "base_uri": "https://localhost:8080/",
     "height": 35
    },
    "colab_type": "code",
    "id": "X0nrJBJePGKB",
    "outputId": "da6e368b-d5a6-4825-da62-25f74b30b3ec"
   },
   "outputs": [],
   "source": [
    "# The original is modified as well\n",
    "a"
   ]
  },
  {
   "cell_type": "code",
   "execution_count": null,
   "metadata": {
    "colab": {
     "base_uri": "https://localhost:8080/",
     "height": 35
    },
    "colab_type": "code",
    "id": "1Mlj0HoGPMu_",
    "outputId": "38963681-e7e3-4beb-8562-c795da237f08"
   },
   "outputs": [],
   "source": [
    "# We need to create a copy() to put changes that are not reflected in the original\n",
    "d = a.copy()\n",
    "d"
   ]
  },
  {
   "cell_type": "code",
   "execution_count": null,
   "metadata": {
    "colab": {
     "base_uri": "https://localhost:8080/",
     "height": 35
    },
    "colab_type": "code",
    "id": "pCNnkSjZPYAN",
    "outputId": "2a030a3f-7ec4-414a-f912-b6b89723fc42"
   },
   "outputs": [],
   "source": [
    "d[0] = 0\n",
    "d"
   ]
  },
  {
   "cell_type": "code",
   "execution_count": null,
   "metadata": {
    "colab": {
     "base_uri": "https://localhost:8080/",
     "height": 35
    },
    "colab_type": "code",
    "id": "lF8RvgnbPbGY",
    "outputId": "f54fd43f-7867-4d94-a888-a9f50f52f661"
   },
   "outputs": [],
   "source": [
    "# The copy is in a different memory allocation\n",
    "np.may_share_memory(a, d)"
   ]
  },
  {
   "cell_type": "markdown",
   "metadata": {
    "colab_type": "text",
    "id": "Y9-A4vihPnYa"
   },
   "source": [
    "## Fancy or Advanced array indexing\n",
    "NumPy arrays can be indexed with slices, but as well with boolean or integer arrays (masks). This method creates copies rather than views."
   ]
  },
  {
   "cell_type": "markdown",
   "metadata": {
    "colab_type": "text",
    "id": "lZnesr5oP33v"
   },
   "source": [
    "### Mask with boolean array"
   ]
  },
  {
   "cell_type": "code",
   "execution_count": null,
   "metadata": {
    "colab": {
     "base_uri": "https://localhost:8080/",
     "height": 35
    },
    "colab_type": "code",
    "id": "4Gropd5mQdeN",
    "outputId": "dec6c208-aae9-4fa3-a1f3-7d9a5322db17"
   },
   "outputs": [],
   "source": [
    "# We start with getting a seed and a random integer array\n",
    "np.random.seed(3)\n",
    "a = np.random.randint(0, 21, 15)\n",
    "a"
   ]
  },
  {
   "cell_type": "code",
   "execution_count": null,
   "metadata": {
    "colab": {
     "base_uri": "https://localhost:8080/",
     "height": 54
    },
    "colab_type": "code",
    "id": "iif5rTnlRJq_",
    "outputId": "9acc60d8-f4d9-4d4f-cdc5-faf98d432cf6"
   },
   "outputs": [],
   "source": [
    "# Create a Boolean array when the residuals of a/3 are 0\n",
    "(a % 3 == 0)"
   ]
  },
  {
   "cell_type": "code",
   "execution_count": null,
   "metadata": {
    "colab": {
     "base_uri": "https://localhost:8080/",
     "height": 35
    },
    "colab_type": "code",
    "id": "FPqTfbBsRX0T",
    "outputId": "a9051c8b-f644-4bfd-a4d7-6b03a2e675bb"
   },
   "outputs": [],
   "source": [
    "# Create a Boolean mask when the residuals of a/3 are 0\n",
    "mask = (a % 3 == 0)\n",
    "\n",
    "# Extract a sub-array with the mask\n",
    "extract_from_a = a[mask] # or,  a[a%3==0]\n",
    "extract_from_a           "
   ]
  },
  {
   "cell_type": "markdown",
   "metadata": {
    "colab_type": "text",
    "id": "N69Cv2l7QT4q"
   },
   "source": [
    "### Mask with integer array"
   ]
  },
  {
   "cell_type": "code",
   "execution_count": null,
   "metadata": {
    "colab": {
     "base_uri": "https://localhost:8080/",
     "height": 35
    },
    "colab_type": "code",
    "id": "2zIBMf87R3B_",
    "outputId": "490d0c22-1d96-4f06-d547-a47d5f4d2b5e"
   },
   "outputs": [],
   "source": [
    "a = np.arange(0, 100, 10)\n",
    "a"
   ]
  },
  {
   "cell_type": "code",
   "execution_count": null,
   "metadata": {
    "colab": {
     "base_uri": "https://localhost:8080/",
     "height": 35
    },
    "colab_type": "code",
    "id": "EvyXBT0-R6_z",
    "outputId": "06328cad-ebea-441c-b21a-1c61592c5555"
   },
   "outputs": [],
   "source": [
    "# Indexing by position\n",
    "# [2, 3, 2, 4, 2] is a Python list\n",
    "b = a[[2, 3, 2, 4, 2]]\n",
    "b"
   ]
  },
  {
   "cell_type": "code",
   "execution_count": null,
   "metadata": {
    "colab": {
     "base_uri": "https://localhost:8080/",
     "height": 35
    },
    "colab_type": "code",
    "id": "UhEilXvsShhD",
    "outputId": "3bd8a878-2de5-44ac-d149-a08637f280ef"
   },
   "outputs": [],
   "source": [
    "np.may_share_memory(a, b)"
   ]
  },
  {
   "cell_type": "markdown",
   "metadata": {
    "colab_type": "text",
    "id": "5JSAWHgTSrgx"
   },
   "source": [
    "Some more fancy indexing:\n",
    "\n",
    "![alt text](https://scipy-lectures.org/_images/numpy_fancy_indexing.png)"
   ]
  },
  {
   "cell_type": "markdown",
   "metadata": {
    "colab_type": "text",
    "id": "ahd5rpqz6rbX"
   },
   "source": [
    "## For what do we use all this??\n",
    "\n",
    "See this [amazing visual presentation](http://jalammar.github.io/visual-numpy/):\n",
    "\n",
    "* For matrix computation\n",
    "* Data representation\n",
    "* Audio\n",
    "* Image\n",
    "* Text\n",
    "\n"
   ]
  },
  {
   "cell_type": "markdown",
   "metadata": {
    "colab_type": "text",
    "id": "XrA3YsGkQVY4"
   },
   "source": [
    "# Basic image manipulation in Python: NumPy and Scipy\n",
    "\n",
    "Image can be understood as a 2D numerical array. Or 3D such as RGB, or MRI, etc. From now on, we will understand **image==np.array**\n",
    "\n",
    "We will be using basically `numpy` for basic array manipulation and `scipy` with its `ndimage` submodule dedicated for image processing of n-dimensional images.\n"
   ]
  },
  {
   "cell_type": "markdown",
   "metadata": {
    "colab_type": "text",
    "id": "LkhJPhoBNmdK"
   },
   "source": [
    "## Common tasks in image processing\n",
    "\n",
    "* Input/Output, displaying images\n",
    "* Basic manipulations: cropping, flipping, rotating, …\n",
    "* Image filtering: denoising, sharpening\n",
    "* Image segmentation: labeling pixels corresponding to different objects\n",
    "* Classification\n",
    "* Feature extraction\n",
    "* Registration\n",
    "* …"
   ]
  },
  {
   "cell_type": "code",
   "execution_count": 52,
   "metadata": {
    "colab": {},
    "colab_type": "code",
    "id": "b2dFbTf3OwkD"
   },
   "outputs": [],
   "source": [
    "%matplotlib inline"
   ]
  },
  {
   "cell_type": "code",
   "execution_count": 51,
   "metadata": {},
   "outputs": [
    {
     "name": "stdout",
     "output_type": "stream",
     "text": [
      "\n",
      "CommandNotFoundError: No command 'conda imageio'.\n",
      "\n",
      "\n",
      "Note: you may need to restart the kernel to use updated packages.\n"
     ]
    }
   ],
   "source": [
    "conda-forge imageio"
   ]
  },
  {
   "cell_type": "markdown",
   "metadata": {
    "colab_type": "text",
    "id": "8k4sZMGjN50s"
   },
   "source": [
    "## Opening and writing to image files"
   ]
  },
  {
   "cell_type": "code",
   "execution_count": 48,
   "metadata": {
    "colab": {
     "base_uri": "https://localhost:8080/",
     "height": 287
    },
    "colab_type": "code",
    "id": "pScF0XDi0ps3",
    "outputId": "52f83795-3321-4ab7-d0c2-515773b8f41f"
   },
   "outputs": [
    {
     "ename": "ModuleNotFoundError",
     "evalue": "No module named 'imageio'",
     "output_type": "error",
     "traceback": [
      "\u001b[0;31m---------------------------------------------------------------------------\u001b[0m",
      "\u001b[0;31mModuleNotFoundError\u001b[0m                       Traceback (most recent call last)",
      "\u001b[0;32m<ipython-input-48-3bf08850d223>\u001b[0m in \u001b[0;36m<module>\u001b[0;34m\u001b[0m\n\u001b[0;32m----> 1\u001b[0;31m \u001b[0;32mimport\u001b[0m \u001b[0mimageio\u001b[0m\u001b[0;34m\u001b[0m\u001b[0;34m\u001b[0m\u001b[0m\n\u001b[0m\u001b[1;32m      2\u001b[0m \u001b[0;32mfrom\u001b[0m \u001b[0mscipy\u001b[0m \u001b[0;32mimport\u001b[0m \u001b[0mmisc\u001b[0m\u001b[0;34m\u001b[0m\u001b[0;34m\u001b[0m\u001b[0m\n\u001b[1;32m      3\u001b[0m \u001b[0;34m\u001b[0m\u001b[0m\n\u001b[1;32m      4\u001b[0m \u001b[0mf\u001b[0m \u001b[0;34m=\u001b[0m \u001b[0mmisc\u001b[0m\u001b[0;34m.\u001b[0m\u001b[0mface\u001b[0m\u001b[0;34m(\u001b[0m\u001b[0;34m)\u001b[0m\u001b[0;34m\u001b[0m\u001b[0;34m\u001b[0m\u001b[0m\n\u001b[1;32m      5\u001b[0m \u001b[0mimageio\u001b[0m\u001b[0;34m.\u001b[0m\u001b[0mimwrite\u001b[0m\u001b[0;34m(\u001b[0m\u001b[0;34m'face.jpg'\u001b[0m\u001b[0;34m,\u001b[0m \u001b[0mf\u001b[0m\u001b[0;34m)\u001b[0m\u001b[0;34m\u001b[0m\u001b[0;34m\u001b[0m\u001b[0m\n",
      "\u001b[0;31mModuleNotFoundError\u001b[0m: No module named 'imageio'"
     ]
    }
   ],
   "source": [
    "import imageio\n",
    "from scipy import misc\n",
    "\n",
    "f = misc.face()\n",
    "imageio.imwrite('face.jpg', f)\n",
    "\n",
    "import matplotlib.pyplot as plt\n",
    "plt.imshow(f)\n",
    "plt.show()"
   ]
  },
  {
   "cell_type": "markdown",
   "metadata": {
    "colab_type": "text",
    "id": "9o8PEqBiP7HZ"
   },
   "source": [
    "### Go from image to numpy array"
   ]
  },
  {
   "cell_type": "code",
   "execution_count": null,
   "metadata": {
    "colab": {
     "base_uri": "https://localhost:8080/",
     "height": 54
    },
    "colab_type": "code",
    "id": "BOPb6HZvkD6y",
    "outputId": "420ddbeb-58e3-4f7b-9a4b-13a11a586843"
   },
   "outputs": [],
   "source": [
    "face = imageio.imread('face.jpg')\n",
    "type(face)      \n",
    "\n",
    "print(\"\\n\", face.shape, face.dtype)\n",
    "\n"
   ]
  },
  {
   "cell_type": "markdown",
   "metadata": {
    "colab_type": "text",
    "id": "DkRBZjtdTlN0"
   },
   "source": [
    "### Slicing the image"
   ]
  },
  {
   "cell_type": "code",
   "execution_count": null,
   "metadata": {
    "colab": {
     "base_uri": "https://localhost:8080/",
     "height": 237
    },
    "colab_type": "code",
    "id": "uylqeNZgQLvq",
    "outputId": "1f4ed4cb-abe3-4063-a6e4-979c3879bef3"
   },
   "outputs": [],
   "source": [
    "import matplotlib.pyplot as plt\n",
    "plt.imshow(face[200:400, 400:800])\n",
    "plt.show()"
   ]
  },
  {
   "cell_type": "markdown",
   "metadata": {
    "colab_type": "text",
    "id": "SMaB9-2tTvf1"
   },
   "source": [
    "## Displaying images\n",
    "We can pass the image as gray, so that we use it for basic image processing"
   ]
  },
  {
   "cell_type": "code",
   "execution_count": null,
   "metadata": {
    "colab": {
     "base_uri": "https://localhost:8080/",
     "height": 287
    },
    "colab_type": "code",
    "id": "1rAM0pk5T17x",
    "outputId": "44e90e3f-5c99-4c8e-9273-a0def0d82aca"
   },
   "outputs": [],
   "source": [
    "f = misc.face(gray=True)  \n",
    "import matplotlib.pyplot as plt\n",
    "plt.imshow(f, cmap=plt.cm.gray)        \n"
   ]
  },
  {
   "cell_type": "markdown",
   "metadata": {
    "colab_type": "text",
    "id": "k0V05U6KqwfY"
   },
   "source": [
    "We can alter the data by clipping it. Either using plt.imshow() or np.clip(). This will alter the contrast for us."
   ]
  },
  {
   "cell_type": "code",
   "execution_count": null,
   "metadata": {
    "colab": {
     "base_uri": "https://localhost:8080/",
     "height": 287
    },
    "colab_type": "code",
    "id": "0oFhZhXTUUoj",
    "outputId": "976bc946-a993-44b6-c7f9-e66a605527d4"
   },
   "outputs": [],
   "source": [
    "f_contrast = np.clip(f, 30, 200)\n",
    "\n",
    "plt.imshow(f_contrast, cmap=plt.cm.gray)        \n",
    "\n",
    "# Remove axes and ticks\n",
    "plt.axis('off')\n"
   ]
  },
  {
   "cell_type": "code",
   "execution_count": null,
   "metadata": {
    "colab": {
     "base_uri": "https://localhost:8080/",
     "height": 287
    },
    "colab_type": "code",
    "id": "kNdQrKybrVlK",
    "outputId": "fda2a1c8-35ae-42cc-890c-4e394125a21d"
   },
   "outputs": [],
   "source": [
    "plt.imshow(f, cmap=plt.cm.gray, vmin=30, vmax=200)        \n",
    "\n",
    "# Remove axes and ticks\n",
    "plt.axis('off')"
   ]
  },
  {
   "cell_type": "markdown",
   "metadata": {
    "colab_type": "text",
    "id": "a2TubNAKVPO5"
   },
   "source": [
    "## Basic manipulations\n",
    "Since we are working with arrays, we can perform basic slicing array operation manipulations over the image"
   ]
  },
  {
   "cell_type": "code",
   "execution_count": null,
   "metadata": {
    "colab": {
     "base_uri": "https://localhost:8080/",
     "height": 35
    },
    "colab_type": "code",
    "id": "3tBSq2VjVENb",
    "outputId": "6328c5cf-7c7f-40d9-9108-2e42b50c9d50"
   },
   "outputs": [],
   "source": [
    "# Retrieve a pixel value\n",
    "face = misc.face(gray=True)\n",
    "face[0, 40]"
   ]
  },
  {
   "cell_type": "code",
   "execution_count": null,
   "metadata": {
    "colab": {
     "base_uri": "https://localhost:8080/",
     "height": 376
    },
    "colab_type": "code",
    "id": "wi3oKWEBVZmc",
    "outputId": "92a1a9bc-688d-4b54-9b8d-31fd8b222ed2"
   },
   "outputs": [],
   "source": [
    "# Slice an image\n",
    "plt.figure(figsize=(6, 6))\n",
    "plt.imshow(face[10:100, 20:100], cmap=plt.cm.gray)\n",
    "plt.axis('off')\n",
    "\n",
    "plt.show()"
   ]
  },
  {
   "cell_type": "code",
   "execution_count": null,
   "metadata": {
    "colab": {
     "base_uri": "https://localhost:8080/",
     "height": 303
    },
    "colab_type": "code",
    "id": "M9AHTm5FVd1T",
    "outputId": "e8f3af14-b919-45d2-a0d4-0b49eabf7a90"
   },
   "outputs": [],
   "source": [
    "# Apply a mask\n",
    "face[100:120] = 0\n",
    "\n",
    "plt.figure(figsize=(6, 6))\n",
    "plt.imshow(face, cmap=plt.cm.gray)\n",
    "plt.axis('off')\n",
    "\n",
    "plt.show()"
   ]
  },
  {
   "cell_type": "markdown",
   "metadata": {
    "colab_type": "text",
    "id": "sNbx1yIhWHw_"
   },
   "source": [
    "## Statistical information\n",
    "\n",
    "We can as well retrieve statistical information from the image"
   ]
  },
  {
   "cell_type": "code",
   "execution_count": null,
   "metadata": {
    "colab": {
     "base_uri": "https://localhost:8080/",
     "height": 35
    },
    "colab_type": "code",
    "id": "nkmnmNjGVyuK",
    "outputId": "3ff981cc-f739-438b-c528-9d37e042e8c6"
   },
   "outputs": [],
   "source": [
    "face = misc.face(gray=True)\n",
    "\n",
    "print(\"Mean \", face.mean(), \"| Max \", face.max(), \"| Min \", face.min())\n"
   ]
  },
  {
   "cell_type": "markdown",
   "metadata": {
    "colab_type": "text",
    "id": "FvEhwxiFWUbn"
   },
   "source": [
    "## Geometrical transformation\n",
    "\n",
    "We can as well transform the images, which is extremely important for data augmentation for instance."
   ]
  },
  {
   "cell_type": "markdown",
   "metadata": {
    "colab_type": "text",
    "id": "KSHxWBMwuDq0"
   },
   "source": [
    "### Cropping"
   ]
  },
  {
   "cell_type": "code",
   "execution_count": null,
   "metadata": {
    "colab": {
     "base_uri": "https://localhost:8080/",
     "height": 303
    },
    "colab_type": "code",
    "id": "Q6_IMfMEWMyD",
    "outputId": "050af579-dcaf-4438-bf54-cd0098a28853"
   },
   "outputs": [],
   "source": [
    "import numpy as np\n",
    "import scipy.misc\n",
    "from scipy import ndimage\n",
    "import matplotlib.pyplot as plt\n",
    "\n",
    "face = scipy.misc.face(gray=True)\n",
    "\n",
    "lx, ly = face.shape\n",
    "\n",
    "# Cropping (using floor division, dumping decimals after operation)\n",
    "crop_face = face[lx//5:-lx//4, ly//5:-ly//4]\n",
    "\n",
    "plt.figure(figsize=(6, 6))\n",
    "plt.imshow(crop_face, cmap=plt.cm.gray)\n",
    "plt.axis('off')\n",
    "\n",
    "plt.show()"
   ]
  },
  {
   "cell_type": "markdown",
   "metadata": {
    "colab_type": "text",
    "id": "Fn5DEeL1upV7"
   },
   "source": [
    "## Flipping"
   ]
  },
  {
   "cell_type": "code",
   "execution_count": null,
   "metadata": {
    "colab": {
     "base_uri": "https://localhost:8080/",
     "height": 303
    },
    "colab_type": "code",
    "id": "mQV6_LwAu3q7",
    "outputId": "d04fcbde-69da-490d-e03f-3a7e73c155fe"
   },
   "outputs": [],
   "source": [
    "import numpy as np\n",
    "import scipy.misc\n",
    "from scipy import ndimage\n",
    "import matplotlib.pyplot as plt\n",
    "\n",
    "face = scipy.misc.face(gray=True)\n",
    "\n",
    "# Up-down flip\n",
    "flip_ud_face = np.flipud(face)\n",
    "\n",
    "plt.figure(figsize=(6, 6))\n",
    "plt.imshow(flip_ud_face, cmap=plt.cm.gray)\n",
    "plt.axis('off')\n",
    "\n",
    "plt.show()"
   ]
  },
  {
   "cell_type": "code",
   "execution_count": null,
   "metadata": {
    "colab": {
     "base_uri": "https://localhost:8080/",
     "height": 303
    },
    "colab_type": "code",
    "id": "gg2EUXO1vFxx",
    "outputId": "f0f9576a-4916-4558-8af1-13142b667adc"
   },
   "outputs": [],
   "source": [
    "import numpy as np\n",
    "import scipy.misc\n",
    "from scipy import ndimage\n",
    "import matplotlib.pyplot as plt\n",
    "\n",
    "face = scipy.misc.face(gray=True)\n",
    "\n",
    "# Left right flip\n",
    "flip_ud_face = np.fliplr(face)\n",
    "\n",
    "plt.figure(figsize=(6, 6))\n",
    "plt.imshow(flip_ud_face, cmap=plt.cm.gray)\n",
    "plt.axis('off')\n",
    "\n",
    "plt.show()"
   ]
  },
  {
   "cell_type": "markdown",
   "metadata": {
    "colab_type": "text",
    "id": "XemuGzH_vYMQ"
   },
   "source": [
    "### Rotation\n"
   ]
  },
  {
   "cell_type": "code",
   "execution_count": null,
   "metadata": {
    "colab": {
     "base_uri": "https://localhost:8080/",
     "height": 378
    },
    "colab_type": "code",
    "id": "gbCButZFvbv1",
    "outputId": "7d54cba3-f87c-4bdf-e4f3-7f3027e1e3ba"
   },
   "outputs": [],
   "source": [
    "import numpy as np\n",
    "import scipy.misc\n",
    "from scipy import ndimage\n",
    "import matplotlib.pyplot as plt\n",
    "\n",
    "face = scipy.misc.face(gray=True)\n",
    "\n",
    "# Rotation\n",
    "rotate_face = ndimage.rotate(face, 45)\n",
    "\n",
    "plt.figure(figsize=(6, 6))\n",
    "plt.imshow(rotate_face, cmap=plt.cm.gray)\n",
    "plt.axis('off')\n",
    "\n",
    "plt.show()"
   ]
  },
  {
   "cell_type": "code",
   "execution_count": null,
   "metadata": {
    "colab": {
     "base_uri": "https://localhost:8080/",
     "height": 303
    },
    "colab_type": "code",
    "id": "q4GkG3q9vpK7",
    "outputId": "f2913410-adf4-480a-971b-ad27ccb221b4"
   },
   "outputs": [],
   "source": [
    "import numpy as np\n",
    "import scipy.misc\n",
    "from scipy import ndimage\n",
    "import matplotlib.pyplot as plt\n",
    "\n",
    "face = scipy.misc.face(gray=True)\n",
    "\n",
    "# Rotation\n",
    "rotate_face = ndimage.rotate(face, 45, reshape=False)\n",
    "\n",
    "plt.figure(figsize=(6, 6))\n",
    "plt.imshow(rotate_face, cmap=plt.cm.gray)\n",
    "plt.axis('off')\n",
    "\n",
    "plt.show()"
   ]
  },
  {
   "cell_type": "markdown",
   "metadata": {
    "colab_type": "text",
    "id": "d0InJ02fWlHC"
   },
   "source": [
    "## Image filtering"
   ]
  },
  {
   "cell_type": "markdown",
   "metadata": {
    "colab_type": "text",
    "id": "mwom--DKWt8J"
   },
   "source": [
    "### Blurring/smoothing"
   ]
  },
  {
   "cell_type": "code",
   "execution_count": null,
   "metadata": {
    "colab": {
     "base_uri": "https://localhost:8080/",
     "height": 303
    },
    "colab_type": "code",
    "id": "p6NOfU3sv9ap",
    "outputId": "67d302d7-de50-4f9f-a8c4-db464af24efb"
   },
   "outputs": [],
   "source": [
    "import scipy.misc\n",
    "from scipy import ndimage\n",
    "import matplotlib.pyplot as plt\n",
    "\n",
    "face = scipy.misc.face(gray=True)\n",
    "blurred_face = ndimage.gaussian_filter(face, sigma=3)\n",
    "\n",
    "plt.figure(figsize=(6, 6))\n",
    "plt.imshow(blurred_face, cmap=plt.cm.gray)\n",
    "plt.axis('off')\n",
    "\n",
    "plt.show()"
   ]
  },
  {
   "cell_type": "code",
   "execution_count": null,
   "metadata": {
    "colab": {
     "base_uri": "https://localhost:8080/",
     "height": 303
    },
    "colab_type": "code",
    "id": "GaI2LtCOwIks",
    "outputId": "6b18c7f3-6a4b-4a81-8df5-3e34795aeb85"
   },
   "outputs": [],
   "source": [
    "import scipy.misc\n",
    "from scipy import ndimage\n",
    "import matplotlib.pyplot as plt\n",
    "\n",
    "face = scipy.misc.face(gray=True)\n",
    "local_mean = ndimage.uniform_filter(face, size=11)\n",
    "\n",
    "plt.figure(figsize=(6, 6))\n",
    "plt.imshow(blurred_face, cmap=plt.cm.gray)\n",
    "plt.axis('off')\n",
    "\n",
    "plt.show()"
   ]
  },
  {
   "cell_type": "markdown",
   "metadata": {
    "colab_type": "text",
    "id": "aZT0mIwTW5is"
   },
   "source": [
    "### Sharpening\n",
    "\n"
   ]
  },
  {
   "cell_type": "code",
   "execution_count": null,
   "metadata": {
    "colab": {
     "base_uri": "https://localhost:8080/",
     "height": 303
    },
    "colab_type": "code",
    "id": "hRuWYwUhW7Z7",
    "outputId": "8815ef83-7953-41eb-e7bb-c35845e0cc86"
   },
   "outputs": [],
   "source": [
    "import scipy.misc\n",
    "from scipy import ndimage\n",
    "import matplotlib.pyplot as plt\n",
    "\n",
    "f = scipy.misc.face(gray=True).astype(float)\n",
    "\n",
    "# First we blur the image using a gaussian filter\n",
    "blurred_f = ndimage.gaussian_filter(f, 3)\n",
    "\n",
    "# Then we create another filter of the blurred image using sigma 1\n",
    "filter_blurred_f = ndimage.gaussian_filter(blurred_f, 1)\n",
    "\n",
    "# We use an approximation of the Laplacian for increasing the weights of edges\n",
    "alpha = 30\n",
    "sharpened = blurred_f + alpha * (blurred_f - filter_blurred_f)\n",
    "\n",
    "plt.figure(figsize=(6, 6))\n",
    "plt.imshow(sharpened, cmap=plt.cm.gray)\n",
    "plt.axis('off')\n",
    "\n",
    "plt.show()\n"
   ]
  },
  {
   "cell_type": "code",
   "execution_count": null,
   "metadata": {
    "colab": {
     "base_uri": "https://localhost:8080/",
     "height": 303
    },
    "colab_type": "code",
    "id": "he88m1XQxS7J",
    "outputId": "2ca4853d-1240-4bb0-fa61-de981c684ae0"
   },
   "outputs": [],
   "source": [
    "import scipy.misc\n",
    "from scipy import ndimage\n",
    "import matplotlib.pyplot as plt\n",
    "\n",
    "f = scipy.misc.face(gray=True).astype(float)\n",
    "\n",
    "# First we blur the image using a gaussian filter\n",
    "blurred_f = ndimage.gaussian_filter(f, 3)\n",
    "\n",
    "# Then we create another filter of the blurred image using sigma 1\n",
    "filter_blurred_f = ndimage.gaussian_filter(blurred_f, 1)\n",
    "\n",
    "# We use an approximation of the Laplacian for increasing the weights of edges\n",
    "alpha = 30\n",
    "edges_weights = alpha * (blurred_f - filter_blurred_f)\n",
    "\n",
    "plt.figure(figsize=(6, 6))\n",
    "plt.imshow(edges_weights, cmap=plt.cm.gray)\n",
    "plt.axis('off')\n",
    "\n",
    "plt.show()"
   ]
  },
  {
   "cell_type": "markdown",
   "metadata": {
    "colab_type": "text",
    "id": "M1-2lgg4XCib"
   },
   "source": [
    "### Denoising"
   ]
  },
  {
   "cell_type": "code",
   "execution_count": null,
   "metadata": {
    "colab": {
     "base_uri": "https://localhost:8080/",
     "height": 259
    },
    "colab_type": "code",
    "id": "bzby88d4W9jz",
    "outputId": "3030509a-91cc-4d6b-914d-f43dfe805ab0"
   },
   "outputs": [],
   "source": [
    "import numpy as np\n",
    "import scipy\n",
    "import scipy.misc\n",
    "from scipy import ndimage\n",
    "import matplotlib.pyplot as plt\n",
    "\n",
    "f = scipy.misc.face(gray=True)\n",
    "f = f[230:290, 220:320]\n",
    "\n",
    "# Create a noisy image\n",
    "noisy = f + 0.4*f.std()*np.random.random(f.shape)\n",
    "\n",
    "# Reduce the noise using a gaussian\n",
    "gauss_denoised = ndimage.gaussian_filter(noisy, 2)\n",
    "\n",
    "# Reduce the noise using a median filter\n",
    "med_denoised = ndimage.median_filter(noisy, 3)\n",
    "\n",
    "\n",
    "plt.figure(figsize=(12,2.8))\n",
    "\n",
    "plt.subplot(131)\n",
    "plt.imshow(noisy, cmap=plt.cm.gray, vmin=40, vmax=220)\n",
    "plt.axis('off')\n",
    "plt.title('noisy', fontsize=20)\n",
    "plt.subplot(132)\n",
    "plt.imshow(gauss_denoised, cmap=plt.cm.gray, vmin=40, vmax=220)\n",
    "plt.axis('off')\n",
    "plt.title('Gaussian filter', fontsize=20)\n",
    "plt.subplot(133)\n",
    "plt.imshow(med_denoised, cmap=plt.cm.gray, vmin=40, vmax=220)\n",
    "plt.axis('off')\n",
    "plt.title('Median filter', fontsize=20)\n",
    "\n",
    "plt.subplots_adjust(wspace=0.02, hspace=0.02, top=0.9, bottom=0, left=0,\n",
    "                    right=1)\n",
    "plt.show()"
   ]
  },
  {
   "cell_type": "markdown",
   "metadata": {
    "colab_type": "text",
    "id": "Pw-kACCNYlkZ"
   },
   "source": [
    "## Feature extraction"
   ]
  },
  {
   "cell_type": "markdown",
   "metadata": {
    "colab_type": "text",
    "id": "g5s87IAjYu6I"
   },
   "source": [
    "### Edge detection: sobel filter"
   ]
  },
  {
   "cell_type": "code",
   "execution_count": null,
   "metadata": {
    "colab": {
     "base_uri": "https://localhost:8080/",
     "height": 344
    },
    "colab_type": "code",
    "id": "XNTBCz6c7YzF",
    "outputId": "1b68ab28-2159-469a-e331-b268d2fd24ba"
   },
   "outputs": [],
   "source": [
    "import numpy as np\n",
    "from scipy import ndimage\n",
    "import matplotlib.pyplot as plt\n",
    "\n",
    "im = np.zeros((256, 256))\n",
    "im[64:-64, 64:-64] = 1\n",
    "\n",
    "im = ndimage.rotate(im, 15, mode='constant')\n",
    "im = ndimage.gaussian_filter(im, 8)\n",
    "\n",
    "sx = ndimage.sobel(im, axis=0, mode='constant')\n",
    "sy = ndimage.sobel(im, axis=1, mode='constant')\n",
    "sob = np.hypot(sx, sy)\n",
    "\n",
    "plt.figure(figsize=(16, 5))\n",
    "plt.subplot(141)\n",
    "plt.imshow(im, cmap=plt.cm.gray)\n",
    "plt.axis('off')\n",
    "plt.title('square', fontsize=20)\n",
    "plt.subplot(142)\n",
    "plt.imshow(sx)\n",
    "plt.axis('off')\n",
    "plt.title('Sobel (x direction)', fontsize=20)\n",
    "plt.subplot(143)\n",
    "plt.imshow(sy)\n",
    "plt.axis('off')\n",
    "plt.title('Sobel (y direction)', fontsize=20)\n",
    "plt.subplot(144)\n",
    "plt.imshow(sob)\n",
    "plt.axis('off')\n",
    "plt.title('Sobel filter', fontsize=20)\n",
    "\n",
    "\n",
    "\n",
    "plt.subplots_adjust(wspace=0.02, hspace=0.02, top=1, bottom=0, left=0, right=0.9)\n",
    "\n",
    "plt.show()"
   ]
  },
  {
   "cell_type": "markdown",
   "metadata": {
    "colab_type": "text",
    "id": "3brlg9wsoykl"
   },
   "source": [
    "## What we will see in next class\n",
    "\n",
    "* Mathematical morphology\n",
    "* Segmentation\n",
    "* Classification, etc.\n",
    "\n",
    "Advanced ways to do image processing and filtering"
   ]
  },
  {
   "cell_type": "code",
   "execution_count": null,
   "metadata": {
    "colab": {
     "base_uri": "https://localhost:8080/",
     "height": 231
    },
    "colab_type": "code",
    "id": "Y0nktC0Mo-yb",
    "outputId": "812ee3eb-760a-4d7e-8b9a-4e1b9bbae82b"
   },
   "outputs": [],
   "source": [
    "import numpy as np\n",
    "import matplotlib.pyplot as plt\n",
    "\n",
    "from skimage.data import camera\n",
    "from skimage.filters import roberts, sobel\n",
    "\n",
    "image = camera()\n",
    "edge_roberts = roberts(image)\n",
    "edge_sobel = sobel(image)\n",
    "\n",
    "fig, ax = plt.subplots(ncols=3, sharex=True, sharey=True,\n",
    "                       figsize=(8, 4))\n",
    "\n",
    "ax[0].imshow(image, cmap=plt.cm.gray)\n",
    "ax[0].set_title('Original')\n",
    "\n",
    "ax[1].imshow(edge_sobel, cmap=plt.cm.gray)\n",
    "ax[1].set_title('Sobel Edge Detection')\n",
    "\n",
    "ax[2].imshow(edge_sobel, cmap=plt.cm.gray)\n",
    "ax[2].set_title('Sobel Edge Detection')\n",
    "\n",
    "for a in ax:\n",
    "    a.axis('off')\n",
    "\n",
    "plt.tight_layout()\n",
    "plt.show()"
   ]
  },
  {
   "cell_type": "markdown",
   "metadata": {
    "colab_type": "text",
    "id": "Hy5vwL6haDtA"
   },
   "source": [
    "## In class exercise:\n",
    "\n",
    "From the following images from scikit image package that we will see in next class (I am opening them for you):\n",
    "\n",
    "* Slice/crop the image\n",
    "* Add a white mask to the image\n",
    "* Rotate tthe image\n",
    "* Flip the image\n",
    "* Apply a blurry filter\n",
    "* Apply a sobel filter\n",
    "    * Use scipy sobel and scikit image sobel over the same image. What are the differences?"
   ]
  },
  {
   "cell_type": "code",
   "execution_count": null,
   "metadata": {
    "colab": {
     "base_uri": "https://localhost:8080/",
     "height": 195
    },
    "colab_type": "code",
    "id": "7l1LhHvZZrcc",
    "outputId": "258dd231-534d-4e99-880e-292f619f6f8a"
   },
   "outputs": [],
   "source": [
    "import matplotlib.pyplot as plt\n",
    "import matplotlib\n",
    "\n",
    "from scipy import ndimage\n",
    "from skimage.data import camera, binary_blobs, coins\n",
    "\n",
    "import numpy as np\n",
    "\n",
    "camera = camera()\n",
    "binary = binary_blobs()\n",
    "coins = coins()\n",
    "\n",
    "fig, ax = plt.subplots(ncols=3, sharex=True, sharey=True,\n",
    "                       figsize=(8, 4))\n",
    "\n",
    "ax[0].imshow(camera, cmap=plt.cm.gray)\n",
    "ax[0].set_title('Camera')\n",
    "\n",
    "ax[1].imshow(binary, cmap=plt.cm.gray)\n",
    "ax[1].set_title('Blobs')\n",
    "\n",
    "ax[2].imshow(coins, cmap=plt.cm.gray)\n",
    "ax[2].set_title('Coins')\n",
    "\n",
    "for a in ax:\n",
    "    a.axis('off')\n",
    "\n",
    "plt.tight_layout()\n",
    "plt.show()"
   ]
  },
  {
   "cell_type": "code",
   "execution_count": null,
   "metadata": {
    "colab": {},
    "colab_type": "code",
    "id": "gNNikKs30WNa"
   },
   "outputs": [],
   "source": []
  }
 ],
 "metadata": {
  "accelerator": "GPU",
  "colab": {
   "collapsed_sections": [
    "hDV-_nrtqtO2",
    "g38RFzmI1Pq0"
   ],
   "name": "05_Array_image_manipulation.ipynb",
   "provenance": []
  },
  "kernelspec": {
   "display_name": "Python 3",
   "language": "python",
   "name": "python3"
  },
  "language_info": {
   "codemirror_mode": {
    "name": "ipython",
    "version": 3
   },
   "file_extension": ".py",
   "mimetype": "text/x-python",
   "name": "python",
   "nbconvert_exporter": "python",
   "pygments_lexer": "ipython3",
   "version": "3.6.7"
  }
 },
 "nbformat": 4,
 "nbformat_minor": 1
}
